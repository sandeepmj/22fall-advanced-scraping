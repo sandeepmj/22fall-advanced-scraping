{
 "cells": [
  {
   "cell_type": "markdown",
   "metadata": {
    "id": "LZWzjibG692-"
   },
   "source": [
    "# Scrape a fixed URL site\n",
    "\n",
    "We'll often encounter website where the url never changes. Here are a few examples: <a href=\"https://my.nycha.info/Outages/Outages.aspx\">NYCHA outages</a> and <a href=\"https://www.timeanddate.com/weather/india/mumbai/historic?month=4&year=2020\">global temperature search</a>.\n",
    "\n",
    "From <a href=\"https://infopost.enbridge.com/InfoPost/\">this homepage</a>, we want to scrape the critical notices for the Algonquin Gas Transmission.\n",
    "\n",
    "Let's explore the site to come up with our scrape strategy.\n",
    "\n"
   ]
  },
  {
   "cell_type": "code",
   "execution_count": 8,
   "metadata": {
    "id": "db8kOJsm7DF_"
   },
   "outputs": [],
   "source": [
    "## libraries\n",
    "import pandas as pd\n",
    "import requests\n",
    "from bs4 import BeautifulSoup"
   ]
  },
  {
   "cell_type": "code",
   "execution_count": 9,
   "metadata": {
    "id": "mxkn7KQV7aKu"
   },
   "outputs": [],
   "source": [
    "## target url\n",
    "url = \"https://infopost.enbridge.com/InfoPost/AGHome.asp?Pipe=AG\""
   ]
  },
  {
   "cell_type": "code",
   "execution_count": 10,
   "metadata": {
    "id": "p8Sx93rq7aOq"
   },
   "outputs": [
    {
     "data": {
      "text/plain": [
       "200"
      ]
     },
     "execution_count": 10,
     "metadata": {},
     "output_type": "execute_result"
    }
   ],
   "source": [
    "## get response\n",
    "response = requests.get(url)\n",
    "response.status_code"
   ]
  },
  {
   "cell_type": "code",
   "execution_count": 11,
   "metadata": {
    "collapsed": true,
    "id": "V2bHKiYC7aSQ"
   },
   "outputs": [
    {
     "data": {
      "text/plain": [
       "'<!DOCTYPE html>\\r\\n<!-- template.asp -->\\r\\n\\r\\n\\r\\n\\r\\n<HTML lang=\"en\">\\r\\n<HEAD>\\r\\n<meta charset=\"utf-8\"/>\\r\\n <meta http-equiv=\"X-UA-Compatible\" content=\"IE=edge\">\\r\\n<meta name=\"viewport\" content=\"width=device-width, initial-scale=1.0\">\\r\\n\\r\\n<link rel=\"shortcut icon\" href=\"favicon.ico\" />\\r\\n<link href=\"css/jquery-ui.min.css\" rel=\"stylesheet\" type=\"text/css\" />\\r\\n<link href=\"css/bootstrap.min.css\" rel=\"stylesheet\">\\r\\n<link href=\"css/font-awesome-ie7.min.css\" rel=\"stylesheet\"/>\\r\\n<link href=\"css/font-awesome.css\" rel=\"stylesheet\">\\r\\n\\r\\n<link href=\"css/link.css\" rel=\"stylesheet\" />\\r\\n<link href=\"css/print.css\" rel=\"stylesheet\" media=\"print\" />\\r\\n<link href=\"css/infopost-custom.css\" rel=\"stylesheet\" media=\"screen\" />\\r\\n<link href=\"css/environment.css\" rel=\"stylesheet\" media=\"screen\" />\\r\\n<!-- HTML5 shim, for IE6-9 support of HTML5 elements -->\\r\\n<!--[if lt IE 9]>\\r\\n\\t<link href=\"css/link-ie.css\" rel=\"stylesheet\" />\\r\\n\\t<script src=\"scripts/html5shiv.js\" type=\"text/javascript\"></script>\\r\\n\\t<script src=\"scripts/html5shiv-printshiv.js\" type=\"text/javascript\"></script>\\r\\n\\t<script src=\"scripts/respond.js\" type=\"text/javascript\"></script>\\r\\n<![endif]-->\\r\\n<style>\\r\\n\\r\\n</style>\\r\\n<script src=\"scripts/jquery-1.11.0.min.js\" type=\"text/javascript\"></script>\\r\\n<script src=\"scripts/jquery-ui-1.11.1.min.js\" type=\"text/javascript\"></script>\\r\\n<script src=\"scripts/bootstrap-3.1.1.min.js\" type=\"text/javascript\"></script>\\r\\n<script src=\"scripts/CommonScripts.js\" type=\"text/javascript\"></script>\\r\\n<script src=\"scripts/cookies.js\" type=\"text/javascript\"></script>\\r\\n\\r\\n\\r\\n\\r\\n\\r\\n<TITLE>LINK&reg; Informational Postings</TITLE>\\r\\n\\r\\n<style>\\r\\n#ContentPaneIframe{\\r\\n\\t height:900px;\\r\\n\\t border:0px; \\r\\n\\t width:100%;\\r\\n}\\r\\n#navbar2{\\r\\n\\tmax-height:2000px;\\r\\n}\\r\\n\\r\\n</style>\\r\\n\\r\\n<SCRIPT>\\r\\n\\tvar pipeCodeList = \\'AG|BGS|BIG|BSP|EG|ET|GB|GPL|MCGP|MB|MNCA|MNUS|MR|NPC|NXCA|NXUS|SESH|SG|SR|STT|TE|VCP|WRGS|\\';\\r\\nvar pipeNameList = \\'Algonquin|Bobcat Gas Storage|BIG Pipeline|Big Sandy Pipeline|MHP Egan|East Tennessee|Garden Banks|Generation  Pipeline|Mississippi Canyon|MHP Moss Bluff|Maritimes & Northeast Canada|Maritimes & Northeast U.S.|Manta Ray Offshore Gathering Company|Nautilus Pipeline Company|NEXUS ULC|NEXUS U.S.|Southeast Supply Header|Saltville|Steckman Ridge|Sabal Trail|Texas Eastern|Valley Crossing Pipeline|Walker Ridge Gathering System |\\';\\r\\nvar pipeLegalCode = \\'AG|BGS|BIG|BSP|EG|ET|GB|GPL|MCGP|MB|MNCA|MNUS|MR|NPC|NXCA|NXUS|SESH|SG|SR|STT|TE|VCP|WRGS|\\';var pipeLegalName = \\'Algonquin Gas Transmission, LLC - 006951446|Bobcat Gas Storage - 614834559|Brazoria Interconnector Gas Pipeline, LLC  - 809456739|Big Sandy Pipeline - 968195714|Egan Hub Storage, LLC - 835460478|East Tennessee Natural Gas, LLC - 007921323|Garden Banks Gas Pipeline, LLC - 966981599|Generation Pipeline, LLC - 036638044|Mississippi Canyon Gas Pipeline, LLC - 946822749|Moss Bluff Hub, LLC - 031369874|Maritimes & Northeast Pipeline, Canada - 251930723|Maritimes & Northeast Pipeline, L.L.C. - 081787256|Manta Ray Offshore Gathering Company, L.L.C. - 030524854|Nautilus Pipeline Company, L.L.C. - 176824738|NEXUS CAPACITY SERVICES, ULC - 080685281|NEXUS Gas Transmission, LLC - 080151107|Southeast Supply Header, LLC - 808264746|Saltville Gas Storage Company L.L.C - 791287274|Steckman Ridge, LP - 827593182|Sabal Trail Transmission - 930373670|Texas Eastern Transmission, LP - 007932908|Valley Crossing Pipeline, LLC - 080429578| Walker Ridge Gathering System, L.L.C. - |\\';var pipeLineAbbr = \\'AGT|BGS|BIG|BSP|EHP|ETNG|GB|GPL|MCGP|MBHP|MNCA|MNUS|MR|NPC|NXCA|NXUS|SESH|SGSC|SR|STT|TE|VCP|WRGS|\\';\\r\\n\\t\\r\\n\\tfunction addPageName(aName){\\r\\n\\t\\tif(aName != \"\")\\r\\n\\t\\t\\tdocument.getElementById(\"ScreenName\").innerHTML = \\'Algonquin Gas Transmission, LLC\\' + \" : \" + aName;\\r\\n\\t\\telse\\r\\n\\t\\t\\tdocument.getElementById(\"ScreenName\").innerHTML = \\'Algonquin Gas Transmission, LLC\\';\\r\\n\\t}\\r\\n\\t\\r\\n\\tfunction addToScreenName(ev){\\t\\r\\n\\t\\tif(ev == null)\\r\\n\\t\\t\\tdocument.getElementById(\"ScreenName\").innerHTML = \\'Algonquin Gas Transmission, LLC\\';\\r\\n\\t\\telse{\\r\\n\\t\\t\\tvar tr = ev.target;\\r\\n\\t\\t\\tdocument.getElementById(\"ScreenName\").innerHTML = \\'Algonquin Gas Transmission, LLC\\' + \" : \" + tr.text;\\r\\n\\t\\t}\\t\\r\\n\\t}\\r\\n\\t\\r\\n\\tfunction resizeContentPane() {  \\r\\n\\t\\tvar frm = document.getElementById(\"ContentPaneIframe\");\\r\\n\\t\\tvar menuHeight2 = $(\"#navbar2\").height();\\r\\n\\t\\tif (menuHeight2 > 900){\\r\\n\\t\\t\\t$(\\'#ContentPaneIframe\\').css(\\'height\\', menuHeight2);\\r\\n\\t\\t}else{\\r\\n\\t\\t\\t$(\\'#ContentPaneIframe\\').css(\\'height\\', 900);\\r\\n\\t\\t}\\r\\n\\t\\tvar frm2 = document.getElementById(\"ContentPaneIframe\");     \\r\\n\\t} \\r\\n\\r\\n\\t\\r\\n</script>\\r\\n</HEAD>\\r\\n\\r\\n<body class=\"html-body\" onload=\"addPipePref(\\'AG\\');\">\\r\\n\\r\\n\\r\\n<div class=\"container-fluid screen-padding\">\\r\\n    <div class=\"header\">\\r\\n        <div class=\"branding hidden-xs\">\\r\\n            <div class=\"nav-right\">\\r\\n                <ul class=\"list-inline\">\\r\\n\\t\\t\\t\\t\\t<li class=\"hidden-print\"><a href=\\'https://link.enbridge.com/Tutorials.asp\\' target=\"_blank\">Tutorials</a></li>\\r\\n                    <li class=\"hidden-print\"><a href=\\'javascript:void(window.open(\"https://link.enbridge.com/Contact.asp\", \"\", \"width=750,height=600,menubar=0,toolbar=0,screenX=300,screenY=300, scrollbars=yes\"));\\'>Contact Us</a></li>\\r\\n                    <li class=\"hidden-print\"><a href=\"http://www.enbridge.com\" target=\"_blank\"></a><img src=\"/images/CORPORATE_LOGO.jpg\" alt=\"Enbridge Inc.\"></li>\\r\\n                </ul>\\r\\n            </div>\\r\\n            <img src=\"/images/link_logo_infopost.gif\" alt=\"LINK System\">\\r\\n            <div class=\"visible-print screen-title\"></div>\\r\\n            <div class=\"clear\"></div>\\r\\n        </div>\\r\\n        <nav class=\"navbar navbar-print\" >\\r\\n\\t\\t  <div class=\"container-fluid\">\\r\\n\\t\\t\\t<div class=\"navbar-header\">\\r\\n\\t\\t\\t\\t<button type=\"button\" id=\\'navbar1-toggle-button\\' class=\"navbar-toggle\" data-toggle=\"collapse\" title=\"Show/Hide Menu\" data-target=\"#Navbar1\">\\r\\n\\t\\t\\t\\t\\t<span class=\"sr-only\">Toggle navigation</span>\\r\\n\\t\\t\\t\\t\\t<i class=\"fa fa-bars\"></i>\\r\\n\\t\\t\\t\\t</button>\\r\\n\\t\\t\\t\\t<a class=\"navbar-brand\" data-toggle=\\'tooltip\\' data-placement=\\'bottom\\' title=\\'LINK&reg; Informational Postings\\' href=\"./\"><i class=\"fa fa-home\"></i></a>\\r\\n\\t\\t\\t\\t\\r\\n\\t\\t\\t</div> \\r\\n            <div class=\"collapse navbar-collapse\" id=\"Navbar1\">\\r\\n                <ul class=\"nav navbar-nav\" id=\"select-pipe-navbar\">\\r\\n\\t\\t\\t\\t\\t<li class=\"Pipe-dropdown\">\\r\\n\\t\\t\\t\\t\\t\\t<a class=\"dropdown-toggle\" style=\"line-height: 15px; font-size:11px;\" title=\"Select Business Unit\" data-toggle=\"dropdown\" href=\"#\">Select Business Unit<b class=\"caret\"></b></a>\\r\\n\\t\\t\\t\\t\\t\\t<ul id=\"dropdown\" class=\"dropdown-menu select-pipe-dropdown-menu\" >\\r\\n\\t\\t\\t\\t\\t\\t\\t\\r\\n\\t\\t\\t\\t\\t\\t\\t<li><a href=\\'AGHome.asp?Pipe=AG\\'>Algonquin (AGT)</a></li><li><a href=\\'BGSHome.asp?Pipe=BGS\\'>Bobcat Gas Storage (BGS)</a></li><li><a href=\\'BIGHome.asp?Pipe=BIG\\'>BIG Pipeline (BIG)</a></li><li><a href=\\'BSPHome.asp?Pipe=BSP\\'>Big Sandy Pipeline (BSP)</a></li><li><a href=\\'EGHome.asp?Pipe=EG\\'>MHP Egan (EHP)</a></li><li><a href=\\'ETHome.asp?Pipe=ET\\'>East Tennessee (ETNG)</a></li><li><a href=\\'GBHome.asp?Pipe=GB\\'>Garden Banks (GB)</a></li><li><a href=\\'GPLHome.asp?Pipe=GPL\\'>Generation  Pipeline (GPL)</a></li><li><a href=\\'MCGPHome.asp?Pipe=MCGP\\'>Mississippi Canyon (MCGP)</a></li><li><a href=\\'MBHome.asp?Pipe=MB\\'>MHP Moss Bluff (MBHP)</a></li><li><a href=\\'MNCAHome.asp?Pipe=MNCA\\'>Maritimes & Northeast Canada (MNCA)</a></li><li><a href=\\'MNUSHome.asp?Pipe=MNUS\\'>Maritimes & Northeast U.S. (MNUS)</a></li><li><a href=\\'MRHome.asp?Pipe=MR\\'>Manta Ray Offshore Gathering Company (MR)</a></li><li><a href=\\'NPCHome.asp?Pipe=NPC\\'>Nautilus Pipeline Company (NPC)</a></li><li><a href=\\'NXCAHome.asp?Pipe=NXCA\\'>NEXUS ULC (NXCA)</a></li><li><a href=\\'NXUSHome.asp?Pipe=NXUS\\'>NEXUS U.S. (NXUS)</a></li><li><a href=\\'SESHHome.asp?Pipe=SESH\\'>Southeast Supply Header (SESH)</a></li><li><a href=\\'SGHome.asp?Pipe=SG\\'>Saltville (SGSC)</a></li><li><a href=\\'SRHome.asp?Pipe=SR\\'>Steckman Ridge (SR)</a></li><li><a href=\\'STTHome.asp?Pipe=STT\\'>Sabal Trail (STT)</a></li><li><a href=\\'TEHome.asp?Pipe=TE\\'>Texas Eastern (TE)</a></li><li><a href=\\'VCPHome.asp?Pipe=VCP\\'>Valley Crossing Pipeline (VCP)</a></li><li><a href=\\'WRGSHome.asp?Pipe=WRGS\\'>Walker Ridge Gathering System  (WRGS)</a></li>\\r\\n\\t\\t\\t\\t\\t\\t\\t\\r\\n\\t\\t\\t\\t\\t\\t</ul>\\r\\n\\t\\t\\t\\t\\t</li>\\r\\n\\t\\t\\t\\t\\t<li>\\r\\n\\t\\t\\t\\t\\t\\t<a  data-toggle=\\'tooltip\\' data-placement=\\'bottom\\' title=\\'LINK&reg; Customer Login\\' style=\"font-size:11px;\" href=\\'https://link.enbridge.com//CustomerActivitiesLogin.asp\\' >Customer Activities (Login)</a>\\r\\n\\t\\t\\t\\t\\t</li>\\t\\t\\t\\t\\r\\n                </ul>\\r\\n            </div>\\r\\n\\t\\t  </div>\\t\\r\\n        </nav>\\r\\n\\t\\t<div class=\"page-title no-print\">\\r\\n\\t\\t\\t<div class=\\'text-container screen-title\\' id=\\'ScreenName\\'> </div>\\r\\n\\r\\n\\t\\t\\t<div class=\"system-time\" style=\"margin-top: -10px;\">\\r\\n\\t\\t\\t\\t<script>\\r\\n\\t\\t\\t\\t\\tvar serverTime = new Date(\\'11/1/2022 9:18:50 AM\\');\\r\\n\\t\\t\\t\\t\\t\\r\\n\\t\\t\\t\\t\\tvar mm = serverTime.getMonth()+1;\\r\\n\\t\\t\\t\\t\\tvar dd = serverTime.getDate();\\r\\n\\t\\t\\t\\t\\tvar yyyy = serverTime.getFullYear();\\r\\n\\t\\t\\t\\t\\tvar date = mm + \"/\" + dd + \"/\" + yyyy;\\r\\n\\t\\t\\t\\t\\tdocument.write(\\'<span id=\"systemDate\" class=\"clock hidden-xs badge badge-info\">\\'+date+\\'</span>\\');\\r\\n\\t\\t\\t\\t\\t\\r\\n\\t\\t\\t\\t</script>\\r\\n\\t\\t\\t</div>\\r\\n\\t\\t\\t\\r\\n\\t\\t\\t<div class=\\'environment\\' id=\"envBadge\">\\r\\n\\t\\t\\t\\t<span class=\\'hidden-xs badge badge-success\\' id=\\'environmentBadge\\'> InfoPost QA </span>\\r\\n\\t\\t\\t</div>\\r\\n\\t\\t\\t\\r\\n\\r\\n        </div>\\r\\n\\t\\t\\r\\n        <p class=\"hidden-xs tiny-vertical-pad\"></p>\\r\\n</div>\\r\\n<script>\\r\\n/*$(document).ready(function(){\\r\\n    $(\\'[data-toggle=\"tooltip\"]\\').tooltip();\\r\\n\\t$(\\'.navbar-toggle\\').tooltip();\\r\\n});*/\\r\\n</script>\\r\\n\\r\\n\\r\\n\\t<div class=\"container-fluid\" style=\"height:100%\" >\\r\\n\\t<div id=\"HomeTab\" >\\r\\n\\t\\t<div class=\"col-sm-2\" style=\"height:100%;\" >\\r\\n\\t\\t\\t<nav id=\"sidebar-menu\" class=\"navbar navbar-default\" >\\r\\n\\t\\t\\t\\r\\n\\t\\t\\t\\t<div class=\"navbar-header\">\\r\\n\\t\\t\\t\\t  <button type=\"button\" id=\\'navbar2-toggle-button\\' class=\"navbar-toggle pull-left\" data-toggle=\"collapse\" data-placement=\\'right\\' title=\"Show/Hide Menu\" data-target=\"#navbar2\">\\r\\n\\t\\t\\t\\t\\t<span class=\"sr-only\">Toggle navigation</span>\\r\\n\\t\\t\\t\\t\\t<img alt=\"menu\" src=\"/images/menu-20x20.png\">\\r\\n\\t\\t\\t\\t\\t<b class=\"caret\" style=\"color:white\"></b>\\r\\n\\t\\t\\t\\t  </button>\\r\\n\\t\\t\\t\\t</div>\\r\\n\\t\\t\\t\\t<div class=\"collapse navbar-collapse navbar-collapse-custom\" id=\"navbar2\" >\\r\\n\\t\\t\\t\\t\\t<ul class=\"nav navbar-nav navbar-left\">\\r\\n\\t\\t\\t\\t\\t\\t\\r\\n<li id=\"Home\" class=\"active sidebar-menu-item\" ><a class=\\'menu-hd\\' href=\"#PipeHomeTab\" onClick=\\'addPageName(\"\");\\' data-toggle=\"pill\">Algonquin</a></li>\\r\\n\\t\\r\\n<!-- Capacity -->\\r\\n<li  id=\"Capacity\" class=\"dropdown sidebar-menu-item\">\\r\\n\\t<a class=\"dropdown-toggle\" data-toggle=\"dropdown\" href=\"#\">Capacity<span class=\"caret\"></span></a>\\r\\n\\t<ul class=\"dropdown-menu\">\\r\\n\\t  <li><a class=\\'menu-hd\\' href=\"https://rtba.enbridge.com/InformationalPosting/Default.aspx?bu=AG&Type=OA\" \\r\\n\\t\\t\\tdata-toggle=\"pill\" \\tdata-target=\"#ContentPane\" title =\"Click to view Operationally Available Capacity\" \\tonClick=\\'unloadContentPane(\"https://rtba.enbridge.com/InformationalPosting/Default.aspx?bu=AG&Type=OA\", event, 200);\\'>Operationally Available</a></li>\\r\\n\\t  <li><a class=\\'menu-hd\\' href=\"https://rtba.enbridge.com/InformationalPosting/Default.aspx?bu=AG&Type=UNS\" \\r\\n\\t\\t\\tdata-toggle=\"pill\" \\tdata-target=\"#ContentPane\"  title =\"Click to view Unsubscribed Capacity\" onClick=\\'unloadContentPane(\"https://rtba.enbridge.com/InformationalPosting/Default.aspx?bu=AG&Type=UNS\", event, 200);\\' >Unsubscribed</a></li>\\r\\n\\t  <li><a class=\\'menu-hd\\' href=\"OfferRptList.asp?pipe=AG&type=CACR\" \\r\\n\\t\\t\\tdata-toggle=\"pill\" \\tdata-target=\"#ContentPane\" title =\"Click to view Capacity Available Through Capacity Release\" \\tonClick=\\'unloadContentPane(\"OfferRptList.asp?pipe=AG&type=CACR\", event);\\'>Capacity Available Through Capacity Release</a></li>\\r\\n\\t  <li><a class=\\'menu-hd\\' href=\"noticesList.asp?pipe=AG&type=CAP\" \\r\\n\\t\\t\\tdata-toggle=\"pill\" \\tdata-target=\"#ContentPane\" title =\"Offers to Purchase Released Capacity\" \\t\\t\\t\\t\\t\\tonClick=\\'unloadContentPane(\"noticesList.asp?pipe=AG&type=CAP\", event);\\'>Offers to Purchase Released Capacity</a></li>\\r\\n\\t  <li><a class=\\'menu-hd\\' href=\"noticesList.asp?pipe=AG&type=CPR\" \\r\\n\\t\\t\\tdata-toggle=\"pill\" \\tdata-target=\"#ContentPane\" title =\"Click to view Capacity Requests\" \\t\\t\\t\\t\\t\\t\\tonClick=\\'unloadContentPane(\"noticesList.asp?pipe=AG&type=CPR\", event);\\'>Requests for Pipeline Capacity</a></li>\\r\\n\\t  <li><a class=\\'menu-hd\\' href=\"https://rtba.enbridge.com/InformationalPosting/Default.aspx?bu=AG&Type=PD\" \\r\\n\\t\\t\\tdata-toggle=\"pill\" \\tdata-target=\"#ContentPane\" title =\"Click to view Peak Day Design\" \\t\\t\\t\\t\\t\\t\\t\\tonClick=\\'unloadContentPane(\"https://rtba.enbridge.com/InformationalPosting/Default.aspx?bu=AG&Type=PD\", event, 200);\\'>Peak Day Design</a></li>\\r\\n\\t  <li><a class=\\'menu-hd\\' href=\"noticesList.asp?pipe=AG&type=RSC\" \\r\\n\\t\\t\\tdata-toggle=\"pill\" \\tdata-target=\"#ContentPane\" title =\"Click to view Reserved Capacity\" \\t\\t\\t\\t\\t\\t\\tonClick=\\'unloadContentPane(\"noticesList.asp?pipe=AG&type=RSC\", event);\\'>Reserved Capacity</a></li>\\r\\n\\t  <li><a class=\\'menu-hd\\' href=\"https://rtba.enbridge.com/InformationalPosting/Default.aspx?bu=AG&Type=NN\" \\r\\n\\t\\t\\tdata-toggle=\"pill\" \\tdata-target=\"#ContentPane\" title =\"Click to view Non-notice Meter Level Allocation\" \\t\\t\\tonClick=\\'unloadContentPane(\"https://rtba.enbridge.com/InformationalPosting/Default.aspx?bu=AG&Type=NN\", event, 0);\\' >No-notice Meter Level Allocation</a></li>\\r\\n\\t</ul>\\r\\n</li>\\r\\n  \\r\\n<!-- GasQuality -->\\r\\n<li id=\"GasQuality\" class=\"dropdown sidebar-menu-item\">\\r\\n\\t<a class=\"dropdown-toggle\" data-toggle=\"dropdown\" href=\"#\">Gas Quality<span class=\"caret\"></span></a>\\r\\n\\t<ul class=\"dropdown-menu\">\\r\\n\\t  <li><a class=\\'menu-hd\\' href=\"https://rtba.enbridge.com/InformationalPosting/Default.aspx?bu=AG&Type=GQ&subtype=DC\" \\r\\n\\t\\t\\tdata-toggle=\"pill\" \\tdata-target=\"#ContentPane\" title =\"Chromatograph Postings\" \\t\\t\\t\\t\\tonClick=\\'unloadContentPane(\"https://rtba.enbridge.com/InformationalPosting/Default.aspx?bu=AG&Type=GQ&subtype=DC\", event, 200);\\'>Chromatograph Postings</a></li>\\r\\n\\t  <li><a class=\\'menu-hd\\' href=\"https://rtba.enbridge.com/InformationalPosting/Default.aspx?bu=AG&Type=GQ&subtype=HC\" \\r\\n\\t\\t\\tdata-toggle=\"pill\" \\tdata-target=\"#ContentPane\" title =\"Hourly Chromatograph Postings\" \\t\\t\\t\\tonClick=\\'unloadContentPane(\"https://rtba.enbridge.com/InformationalPosting/Default.aspx?bu=AG&Type=GQ&subtype=HC\", event, 200);\\'>Hourly Chromatograph Postings</a></li>\\r\\n\\t  <li><a class=\\'menu-hd\\' href=\"/downloads/Chromatograph_Equipment_All.pdf\" \\r\\n\\t\\t\\tdata-toggle=\"pill\" \\tdata-target=\"#ContentPane\" title =\"Chromatograph Equipment Information\" \\t\\tonClick=\\'unloadContentPane(\"/downloads/Chromatograph_Equipment_All.pdf\", event);\\'>Chromatograph Equipment Information</a></li>\\r\\n\\t  <li><a class=\\'menu-hd\\' href=\"https://rtba.enbridge.com/InformationalPosting/Default.aspx?bu=AG&Type=GQ&subtype=DA\" \\r\\n\\t\\t\\tdata-toggle=\"pill\" \\tdata-target=\"#ContentPane\" title =\"Other Composition Information\" \\t\\t\\t\\tonClick=\\'unloadContentPane(\"https://rtba.enbridge.com/InformationalPosting/Default.aspx?bu=AG&Type=GQ&subtype=DA\", event, 0);\\'> Other Composition Information</a></li>\\r\\n\\t  <li><a class=\\'menu-hd\\' href=\"/Regulatory/Tariff/AGT_Gas_Quality.pdf\" \\r\\n\\t\\t\\tdata-toggle=\"pill\" \\tdata-target=\"#ContentPane\" title =\"Gas Quality Tariff Provisions\" \\t\\t\\t\\tonClick=\\'unloadContentPane(\"/Regulatory/Tariff/AGT_Gas_Quality.pdf\", event);\\'>Gas Quality Tariff Provisions</a></li>\\r\\n\\t  <li><a class=\\'menu-hd\\' href=\"noticesList.asp?pipe=AG&type=GQW\" \\r\\n\\t\\t\\tdata-toggle=\"pill\" \\tdata-target=\"#ContentPane\" title =\"Click to view Gas Quality Waivers\" \\t\\t\\tonClick=\\'unloadContentPane(\"noticesList.asp?pipe=AG&type=GQW\", event);\\'>Gas Quality Waivers</a></li>\\r\\n\\t</ul>\\r\\n</li>\\r\\n  \\r\\n<!-- Index Of Customers -->\\r\\n<li id=\"IOC\" class=\"sidebar-menu-item\"><a class=\"menu-hd\" href=\"/Infopost/frameContent/IndexOfCustomers.asp?pipe=AG&type=IOC\" \\r\\n\\t\\tdata-toggle=\"pill\" \\tdata-target=\"#ContentPane\" title = \\'Click to view Index of Customers\\' \\tonClick=\\'unloadContentPane(\"/Infopost/frameContent/IndexOfCustomers.asp?pipe=AG&type=IOC\",event);\\'>Index of Customers</a></li>\\r\\n\\r\\n<!-- locations -->\\r\\n<li id=\"Location\" class=\"dropdown sidebar-menu-item\">\\r\\n\\t<a class=\"dropdown-toggle\" data-toggle=\"dropdown\" href=\"#\">Locations<span class=\"caret\"></span></a>\\r\\n\\t<ul class=\"dropdown-menu\">\\r\\n\\t  <li><a class=\\'menu-hd\\' href=\\'https://linkwc.enbridge.com/Pointdata/AgtAllPoints.csv\\'\\r\\n\\t\\t\\ttitle =\"Click to view Location Data\" >Location Data Download</a></li>\\r\\n\\t</ul>\\r\\n</li>\\r\\n  \\r\\n<!-- Notices -->\\r\\n<li id=\"Notice\" class=\"dropdown sidebar-menu-item\">\\r\\n\\t<a class=\"dropdown-toggle\" data-toggle=\"dropdown\" href=\"#\">Notices<span class=\"caret\"></span></a>\\r\\n\\t<ul class=\"dropdown-menu\">\\r\\n\\t  <li><a class=\\'menu-hd\\' href=\"NoticesList.asp?pipe=AG&type=CRI\" \\r\\n\\t\\t\\tdata-toggle=\"pill\" \\tdata-target=\"#ContentPane\"  title =\"Click to view Critical Notices\"\\t\\t\\tonClick=\\'unloadContentPane(\"NoticesList.asp?pipe=AG&type=CRI\",event);\\'>Critical</a></li>\\r\\n\\t  <li><a class=\\'menu-hd\\' href=\"NoticesList.asp?pipe=AG&type=NON\" \\r\\n\\t\\t\\tdata-toggle=\"pill\" \\tdata-target=\"#ContentPane\"  title =\"Click to view Non-Critical Notices\"  \\tonClick=\\'unloadContentPane(\"NoticesList.asp?pipe=AG&type=NON\", event);\\'>Non-Critical</a></li>\\r\\n\\t  <li><a class=\\'menu-hd\\' href=\"NoticesList.asp?pipe=AG&type=OUT\" \\r\\n\\t\\t\\tdata-toggle=\"pill\" \\tdata-target=\"#ContentPane\"  title =\"Click to view Planned Service Outage Notices\" onClick=\\'unloadContentPane(\"NoticesList.asp?pipe=AG&type=OUT\", event);\\'>Planned Service Outage</a></li>\\r\\n\\t  <li><a class=\\'menu-hd\\' href=\"/downloads/AGT_Waste_Heat_Recovery.pdf\" \\r\\n\\t\\t\\tdata-toggle=\"pill\" \\tdata-target=\"#ContentPane\"  title =\"Click to view Waste Heat\" \\t\\t\\t\\tonClick=\\'unloadContentPane(\"/downloads/AGT_Waste_Heat_Recovery.pdf\", event);\\'>Waste Heat</a></li>\\r\\n\\t  <li><a class=\\'menu-hd\\' href=\"NoticesList.asp?pipe=AG&type=OPN\" \\r\\n\\t\\t\\tdata-toggle=\"pill\" \\tdata-target=\"#ContentPane\"  title =\"Click to view Open Seasons Notices\"\\t\\tonClick=\\'unloadContentPane(\"NoticesList.asp?pipe=AG&type=OPN\", event);\\'>Open Seasons</a></li>\\r\\n\\t  <li><a class=\\'menu-hd\\' href=\"/downloads/SupportedIndexes.pdf\" \\r\\n\\t\\t\\tdata-toggle=\"pill\" \\tdata-target=\"#ContentPane\"  title =\"Click to view Supported Price Indexes\"\\tonClick=\\'unloadContentPane(\"/downloads/SupportedIndexes.pdf\",event);\\' >Supported Price Indexes</a></li>\\r\\n\\t</ul>\\r\\n</li>\\r\\n  \\r\\n<!-- Posted Imbalances -->\\r\\n<li id=\"Imbalance\" class=\"sidebar-menu-item\"><a class=\\'menu-hd\\' href=\"imbalanceposting.asp?pipe=AG&type=IMB\" \\r\\n\\tdata-toggle=\"pill\" \\tdata-target=\"#ContentPane\"  title = \\'Click to view Posted Imbalances\\' \\t\\tonClick=\\'unloadContentPane(\"imbalanceposting.asp?pipe=AG&type=IMB\", event);\\' >Posted Imbalances</a></li>\\r\\n\\r\\n<!-- Regulatory -->\\r\\n<li id=\"Regulatory\" class=\"sidebar-menu-item\"><a class=\\'menu-hd\\' href=\"noticesList.asp?pipe=AG&type=RTE\" \\r\\n\\tdata-toggle=\"pill\" \\tdata-target=\"#ContentPane\"  title =\"Click to view Regulatory\"  \\t\\t\\t\\tonClick=\\'unloadContentPane(\"noticesList.asp?pipe=AG&type=RTE\", event);\\'>Regulatory</a></li>\\r\\n\\r\\n<!-- Standard of Conduct -->\\r\\n<li id=\"StdOfConduct\" class=\"dropdown sidebar-menu-item\">\\r\\n\\t<a class=\"dropdown-toggle\" data-toggle=\"dropdown\" href=\"#\">Standard of Conduct\\r\\n\\t<span class=\"caret\"></span></a>\\r\\n\\t<ul class=\"dropdown-menu\">\\r\\n\\t  <li><a class=\\'menu-hd\\' href=\"https://linkwc.enbridge.com/StdOfConducts/AGT_AffiliateNamesAndAddresses.pdf\" \\r\\n\\t\\t\\tdata-toggle=\"pill\"\\tdata-target=\"#ContentPane\"  title =\"Click to view Affiliate Names & Addresses\"\\tonClick=\\'unloadContentPane(\"https://linkwc.enbridge.com/StdOfConducts//AGT_AffiliateNamesAndAddresses.pdf\", event);\\' >Affiliate Names & Addresses</a></li>\\r\\n\\t  <li><a class=\\'menu-hd\\' href=\"noticesList.asp?pipe=AG&type=TDA\" \\r\\n\\t\\t\\tdata-toggle=\"pill\"\\tdata-target=\"#ContentPane\"  title =\"Click to view Affiliate Tariff Waivers\"\\t\\tonClick=\\'unloadContentPane(\"noticesList.asp?pipe=AG&type=TDA\", event);\\' >Affiliate Tariff Waivers</a></li>\\r\\n\\t  <li><a class=\\'menu-hd\\' href=\"https://linkwc.enbridge.com/StdOfConducts//AGT_CCO_Contact_Posting.pdf\" \\r\\n\\t\\t\\tdata-toggle=\"pill\"\\tdata-target=\"#ContentPane\"  title =\"Click to view Chief Compliance Officer\"\\t\\tonClick=\\'unloadContentPane(\"https://linkwc.enbridge.com/StdOfConducts//AGT_CCO_Contact_Posting.pdf\", event);\\' >Chief Compliance Officer</a></li>\\r\\n\\t  <li><a class=\\'menu-hd\\' href=\"https://linkwc.enbridge.com/StdOfConducts//EmployeeTransfers.pdf\" \\r\\n\\t\\t\\tdata-toggle=\"pill\"\\tdata-target=\"#ContentPane\"  title =\"Click to view Employee Transfers\"\\t\\t\\tonClick=\\'unloadContentPane(\"https://linkwc.enbridge.com/StdOfConducts//EmployeeTransfers.pdf\", event);\\' >Employee Transfers</a></li>\\r\\n\\t  <li><a class=\\'menu-hd\\' href=\"https://linkwc.enbridge.com/StdOfConducts//AGT_Implementation_Procedures.pdf\" \\r\\n\\t\\t\\tdata-toggle=\"pill\" data-target=\"#ContentPane\"  title =\"Click to view Implementation Procedures\"\\t\\tonClick=\\'unloadContentPane(\"https://linkwc.enbridge.com/StdOfConducts//AGT_Implementation_Procedures.pdf\", event);\\' >Implementation Procedures</a></li>\\r\\n\\t  <li><a class=\\'menu-hd\\' href=\"noticesList.asp?pipe=AG&type=IND\" \\r\\n\\t\\t\\tdata-toggle=\"pill\"\\tdata-target=\"#ContentPane\"  title =\"Click to view Information Disclosure\" \\t\\tonClick=\\'unloadContentPane(\"noticesList.asp?pipe=AG&type=IND\", event);\\' >Information Disclosure</a></li>\\r\\n\\t  <li><a class=\\'menu-hd\\' href=\"https://linkwc.enbridge.com/StdOfConducts//JobTitlesAndDescriptions.pdf\" \\r\\n\\t\\t\\tdata-toggle=\"pill\"\\tdata-target=\"#ContentPane\"  title =\"Click to view Job Titles & Descriptions\"\\tonClick=\\'unloadContentPane(\"https://linkwc.enbridge.com/StdOfConducts//JobTitlesAndDescriptions.pdf\", event);\\' >Job Titles & Descriptions</a></li>\\r\\n\\t  <li><a class=\\'menu-hd\\' href=\"https://linkwc.enbridge.com/StdOfConducts/PotentinalMergers.pdf\"\\r\\n\\t\\t\\tdata-toggle=\"pill\"\\tdata-target=\"#ContentPane\"  title =\"Click to view Potential Mergers\"\\t\\t\\tonClick=\\'unloadContentPane(\"https://linkwc.enbridge.com/StdOfConducts//PotentinalMergers.pdf\", event);\\' >Potential Mergers</a></li>\\r\\n\\t  <li><a class=\\'menu-hd\\' href=\"https://linkwc.enbridge.com/StdOfConducts//AGT_Shared_Facilities.pdf\"\\r\\n\\t\\t\\tdata-toggle=\"pill\"\\tdata-target=\"#ContentPane\"  title =\"Click to view Shared Facilities\"\\t\\t\\tonClick=\\'unloadContentPane(\"https://linkwc.enbridge.com/StdOfConducts//AGT_Shared_Facilities.pdf\", event);\\' >Shared Facilities</a></li>\\r\\n\\t  <li><a class=\\'menu-hd\\' href=\"noticesList.asp?pipe=AG&type=VOL\" \\r\\n\\t\\t\\tdata-toggle=\"pill\"\\tdata-target=\"#ContentPane\"  title =\"Click to view Voluntary Consent\"\\t\\t\\tonClick=\\'unloadContentPane(\"noticesList.asp?pipe=AG&type=VOL\", event);\\' >Voluntary Consent</a></li>\\r\\n\\t</ul>\\r\\n</li>\\r\\n\\r\\n<!-- Tariff -->\\r\\n<li id=\"Tariff\" class=\"dropdown sidebar-menu-item\">\\r\\n\\t<a class=\"dropdown-toggle\" data-toggle=\"dropdown\" href=\"#\">Tariff\\r\\n\\t<span class=\"caret\"></span></a>\\r\\n\\t<ul class=\"dropdown-menu\">\\r\\n\\t  <li><a class=\\'menu-hd\\' href=\"/regulatory/tariff/AGTVolumeNo1.pdf\" \\r\\n\\t\\t\\tdata-toggle=\"pill\" data-target=\"#ContentPane\"  title =\"Click to view Title Sheet/Section\"  \\t\\t\\tonClick=\\'unloadContentPane(\"/regulatory/tariff/AGTVolumeNo1.pdf#pagemode=bookmarks&nameddest=titlepage\", event, 300);\\'> Title Sheet/Section</a></li>\\r\\n\\t  <li><a class=\\'menu-hd\\' href=\"/regulatory/tariff/AGTVolumeNo1.pdf\" \\r\\n\\t\\t\\tdata-toggle=\"pill\"\\tdata-target=\"#ContentPane\"  title =\"Click to view Table of Contents\"\\t\\t\\tonClick=\\'unloadContentPane(\"/regulatory/tariff/AGTVolumeNo1.pdf#pagemode=bookmarks&nameddest=tableofcontents\", event, 300);\\'>Table of Contents</a></li>\\r\\n\\t  <li><a class=\\'menu-hd\\' href=\"/regulatory/tariff/AGTVolumeNo1.pdf\" \\r\\n\\t\\t\\tdata-toggle=\"pill\"\\tdata-target=\"#ContentPane\"  title =\"Click to view Preliminary Statement\" \\t\\tonClick=\\'unloadContentPane(\"/regulatory/tariff/AGTVolumeNo1.pdf#pagemode=bookmarks&nameddest=prelimstatement\", event, 300);\\'>Preliminary Statement</a></li>\\r\\n\\t  <li><a class=\\'menu-hd\\' href=\"/regulatory/tariff/AGTVolumeNo1.pdf\" \\r\\n\\t\\t\\tdata-toggle=\"pill\"\\tdata-target=\"#ContentPane\"  title =\"Click to view map\"\\t\\t\\t\\t\\t\\t\\tonClick=\\'unloadContentPane(\"/regulatory/tariff/AGTVolumeNo1.pdf#pagemode=bookmarks&nameddest=mapsection\", event, 300);\\'>Map</a></li>\\r\\n\\t  <li><a class=\\'menu-hd\\' href=\"/regulatory/tariff/AGTVolumeNo1.pdf\" \\r\\n\\t\\t\\tdata-toggle=\"pill\"\\tdata-target=\"#ContentPane\"  title =\"Click to view Currently Effective Rates\"\\tonClick=\\'unloadContentPane(\"/regulatory/tariff/AGTVolumeNo1.pdf#pagemode=bookmarks&nameddest=currentrates\", event, 300);\\'>Currently Effective Rates</a></li>\\r\\n\\t  <li><a class=\\'menu-hd\\' href=\"/regulatory/tariff/AGTVolumeNo1.pdf\" \\r\\n\\t\\t\\tdata-toggle=\"pill\"\\tdata-target=\"#ContentPane\"  title =\"Click to view Rate Schedules\"\\t\\t\\t\\tonClick=\\'unloadContentPane(\"/regulatory/tariff/AGTVolumeNo1.pdf#pagemode=bookmarks&nameddest=rateschedules\", event, 300);\\'>Rate Schedules</a></li>\\r\\n\\t  <li><a class=\\'menu-hd\\' href=\"/regulatory/tariff/AGTVolumeNo1.pdf\" \\r\\n\\t\\t\\tdata-toggle=\"pill\"\\tdata-target=\"#ContentPane\"  title =\"Click to view General Terms and Conditions\"\\tonClick=\\'unloadContentPane(\"/regulatory/tariff/AGTVolumeNo1.pdf#pagemode=bookmarks&nameddest=gtcindex\", event, 300);\\'>General Terms and Conditions</a></li>\\r\\n\\t  <li><a class=\\'menu-hd\\' href=\"/regulatory/tariff/AGTVolumeNo1.pdf\" \\r\\n\\t\\t\\tdata-toggle=\"pill\"\\tdata-target=\"#ContentPane\"  title =\"Click to view Form of Service Agreement\"\\tonClick=\\'unloadContentPane(\"/regulatory/tariff/AGTVolumeNo1.pdf#pagemode=bookmarks&nameddest=fosaindex\", event, 300);\\'>Form of Service Agreement</a></li>\\r\\n\\t  <li><a class=\\'menu-hd\\' href=\"/regulatory/tariff/AGTVolumeNo1.pdf\" \\r\\n\\t\\t\\tdata-toggle=\"pill\"\\tdata-target=\"#ContentPane\"  title =\"Click to view Entire Tariff\"\\t\\t\\t\\tonClick=\\'unloadContentPane(\"/regulatory/tariff/AGTVolumeNo1.pdf#pagemode=bookmarks&nameddest=tstoc\", event, 300);\\'>Entire Tariff</a></li>\\r\\n\\t  <li><a class=\\'menu-hd\\' href=\"/regulatory/tariff/AGTVolumeNo1.pdf\" \\r\\n\\t\\t\\tdata-toggle=\"pill\"\\tdata-target=\"#ContentPane\"  title =\"Click to view Sheet/Section Index\"\\t\\t\\tonClick=\\'unloadContentPane(\"/regulatory/tariff/AGTVolumeNo1.pdf#pagemode=bookmarks&nameddest=tsindex\", event, 300);\\'>Sheet/Section Index</a></li>\\r\\n\\t</ul>\\r\\n</li>\\r\\n\\r\\n<!-- Transactional Reporting -->\\r\\n<li id=\"Transactional\" class=\"dropdown sidebar-menu-item\">\\r\\n\\t<a class=\"dropdown-toggle\" data-toggle=\"dropdown\" href=\"#\">Transactional Reporting\\r\\n\\t<span class=\"caret\"></span></a>\\r\\n\\t<ul class=\"dropdown-menu\">\\r\\n\\t  <li><a class=\\'menu-hd\\' href=\"TransRptList.asp?pipe=AG&type=TRC\" \\r\\n\\t\\t\\tdata-toggle=\"pill\"\\tdata-target=\"#ContentPane\"  title =\"Click to view Capacity Release Transactions\"\\tonClick=\\'unloadContentPane(\"TransRptList.asp?pipe=AG&type=TRC\", event);\\'>Capacity Release</a></li>\\r\\n\\t  <li><a class=\\'menu-hd\\' href=\"TransRptList.asp?pipe=AG&type=TRF\" \\r\\n\\t\\t\\tdata-toggle=\"pill\"\\tdata-target=\"#ContentPane\"  title =\"Click to view Firm Transactions\"\\t\\t\\t\\tonClick=\\'unloadContentPane(\"TransRptList.asp?pipe=AG&type=TRF\", event);\\'>Firm</a></li>\\r\\n\\t  <li><a class=\\'menu-hd\\' href=\"TransRptList.asp?pipe=AG&type=TRI\" \\r\\n\\t\\t\\tdata-toggle=\"pill\"\\tdata-target=\"#ContentPane\"  title =\"Click to view Interruptible Transactions\"\\t\\tonClick=\\'unloadContentPane(\"TransRptList.asp?pipe=AG&type=TRI\", event);\\'>Interruptible</a></li>\\r\\n\\t</ul>\\r\\n</li>\\r\\n\\r\\n<!-- Request For Service Information List -->\\r\\n<li id=\"RFS\" class=\"sidebar-menu-item\"><a class=\\'menu-hd\\' href=\"/downloads/RFS_List_AGT.pdf\" \\r\\n\\tdata-toggle=\"pill\"\\tdata-target=\"#ContentPane\" title =\"Click to view RFS List\" onClick=\\'unloadContentPane(\"/downloads/RFS_List_AGT.pdf\", event);\\'>Request for Service Information List</a></li>\\r\\n\\r\\n<!-- Gas/Electric Coordination -->\\r\\n<li id=\"GasElectric\" class=\"dropdown sidebar-menu-item\">\\r\\n\\t<a class=\"dropdown-toggle\" data-toggle=\"dropdown\" href=\"#\">Gas/Electric Coordination<span class=\"caret\"></span></a>\\r\\n\\t<ul class=\"dropdown-menu\" >\\r\\n\\t  <li><a  class=\\'menu-hd\\' href=\"/downloads/GasElectricCoordinationWelcomePage.htm\" \\r\\n\\t\\t\\tdata-toggle=\"pill\" data-target=\"#ContentPane\"  title =\"Gas Electric Coordination\" onClick=\\'unloadContentPane(\"/downloads/GasElectricCoordinationWelcomePage.html\", event);\\'>Welcome</a></li>\\r\\n\\t  <li><a  class=\\'menu-hd\\' href=\"noticesList.asp?pipe=AG&type=GEC\" \\r\\n\\t\\t\\tdata-toggle=\"pill\" data-target=\"#ContentPane\"  title =\"Click to view Gas/Electric Coordination Postings\" onClick=\\'unloadContentPane(\"noticesList.asp?pipe=AG&type=GEC\", event);\\'>Postings</a></li>\\r\\n\\t  <li><a  class=\\'menu-hd\\' href=\"https://rtba.enbridge.com/InformationalPosting/Default.aspx?bu=AG&Type=OAP\" \\r\\n\\t\\t\\tdata-toggle=\"pill\" data-target=\"#ContentPane\"  title =\"Click to view Power Generation Scheduled Quantities\" onClick=\\'unloadContentPane(\"https://rtba.enbridge.com/InformationalPosting/Default.aspx?bu=AG&Type=OAP\", event, 0);\\'>Power Generation Scheduled Quantities</a></li>\\r\\n\\t  <li><a  href=\\'/downloads/AG_OperatorList.csv\\' title =\"Click to view Electric Transmission Operator&#39;s List\" >Electric Transmission Operator&#39;s List</a></li>\\r\\n\\t\\r\\n\\t</ul>\\r\\n</li>\\r\\n\\r\\n<!-- Gas Quality Collaborative -->\\r\\n<li id=\"GasQualityPosting\" class=\"sidebar-menu-item\"><a class=\\'menu-hd\\' href=\"noticesList.asp?pipe=AG&type=GQC\" \\r\\n\\tdata-toggle=\"pill\" \\tdata-target=\"#ContentPane\" title =\"Click to view Gas Quality Collaborative Postings\"  \\t\\t\\t\\tonClick=\\'unloadContentPane(\"noticesList.asp?pipe=AG&type=GQC\", event);\\'>Gas Quality Collaborative</a></li>\\r\\n\\r\\n<!-- Cyber Security -->\\r\\n<li id=\"CyberSecurity\" class=\"dropdown sidebar-menu-item\">\\r\\n\\t<a class=\"dropdown-toggle\" data-toggle=\"dropdown\" href=\"#\">Cyber Security<span class=\"caret\"></span></a>\\r\\n\\t<ul class=\"dropdown-menu\" >\\r\\n\\t  <li><a  class=\\'menu-hd\\' href=\"/downloads/Enbridge_Cyber_Security.pdf.htm\" \\r\\n\\t\\t\\tdata-toggle=\"pill\" data-target=\"#ContentPane\"  title =\"About Our Cybersecurity\" onClick=\\'unloadContentPane(\"/downloads/Enbridge_Cyber_Security.htm\", event);\\'>About Our Cybersecurity</a></li>\\r\\n\\t </ul>\\r\\n</li>\\r\\n\\r\\n<!-- Historical download -->\\r\\n<li id=\"Historical\" class=\"dropdown sidebar-menu-item\">\\r\\n\\t<a class=\"dropdown-toggle\" data-toggle=\"dropdown\" href=\"#\">Historical Downloads<span class=\"caret\"></span></a>\\r\\n\\t<ul class=\"dropdown-menu\" >\\r\\n\\t\\t<li class=\"dropdown-submenu sidebar-menu-item\">\\r\\n\\t\\t\\t<a class=\"sub-level\"  href=\"#\">Capacity<span class=\"caret\"></span></a>\\r\\n\\t\\t\\t<ul class=\"dropdown-menu\">\\r\\n\\t\\t\\t\\t<li><a  class=\\'menu-hd\\' href=\"#\" \\r\\n\\t\\t\\t\\t\\t\\tdata-toggle=\"pill\" data-target=\"#ContentPane\"  title =\"Click to view Operationally Available Capacity\"\\tonClick=\\'unloadContentPane(\"https://rtba.enbridge.com/InformationalPosting/Download.aspx?bu=AG&type=OA\", event, 0);\\'>Operationally Available</a></li>\\r\\n\\t\\t\\t\\t<li><a  class=\\'menu-hd\\' href=\"#\" \\r\\n\\t\\t\\t\\t\\t\\tdata-toggle=\"pill\" data-target=\"#ContentPane\"  title =\"Click to view Unsubscribed Capacity\" \\t\\t\\tonClick=\\'unloadContentPane(\"https://rtba.enbridge.com/InformationalPosting/Download.aspx?bu=AG&type=UNS\", event, 0);\\'>Unsubscribed</a></li>\\r\\n\\t\\t\\t\\t<li><a  class=\\'menu-hd\\' href=\"#\" \\r\\n\\t\\t\\t\\t\\t\\tdata-toggle=\"pill\" data-target=\"#ContentPane\"  title =\"Click to view Peak Day Capacity\" \\t\\t\\t\\tonClick=\\'unloadContentPane(\"https://rtba.enbridge.com/InformationalPosting/Download.aspx?bu=AG&type=PD\", event, 0);\\'>Peak Day Design</a></li>\\r\\n\\t\\t\\t\\t<li><a  class=\\'menu-hd\\' href=\"#\" \\r\\n\\t\\t\\t\\t\\t\\tdata-toggle=\"pill\" data-target=\"#ContentPane\"  title =\"Click to view Non-notice Meter Level Allocation\" onClick=\\'unloadContentPane(\"https://rtba.enbridge.com/InformationalPosting/Download.aspx?bu=AG&type=NN\", event, 0);\\'>No-notice Meter Level Allocation</a></li>\\r\\n\\t\\t\\t</ul>\\r\\n\\t\\t</li>\\r\\n\\t\\t\\r\\n\\t\\t<li class=\"dropdown-submenu sidebar-menu-item\">\\r\\n\\t\\t\\t<a  class=\"sub-level\" href=\"#\">Gas Quality<span class=\"caret\"></span></a>\\r\\n\\t\\t\\t<ul class=\"dropdown-menu\" >\\r\\n\\t\\t\\t\\t<li><a  class=\\'menu-hd\\' href=\"#\" \\r\\n\\t\\t\\t\\t\\tdata-toggle=\"pill\" data-target=\"#ContentPane\"   title =\"Click to view Gas Quality\" onClick=\\'unloadContentPane(\"https://rtba.enbridge.com/InformationalPosting/Download.aspx?bu=AG&type=GQ\", event, 0);\\'>Gas Quality</a></li>\\r\\n\\t\\t\\t</ul>\\r\\n\\t\\t</li>\\r\\n\\t\\t\\r\\n\\t\\t<li class=\"dropdown-submenu sidebar-menu-item\">\\r\\n\\t\\t\\t<a class=\"sub-level\" href=\"#\">Notices<span class=\"caret\"></span></a>\\r\\n\\t\\t\\t<ul class=\"dropdown-menu\" >\\r\\n\\t\\t\\t\\t<li><a  class=\\'menu-hd\\' href=\"#\" \\r\\n\\t\\t\\t\\t\\t\\tdata-toggle=\"pill\" data-target=\"#ContentPane\"  title =\"Click to download Critical Notices\" \\t\\t\\t\\tonClick=\\'unloadContentPane(\"HistoricalDownloadNoticesWC.asp?pipe=AG&type=CRI\", event);\\'>Critical</a></li>\\r\\n\\t\\t\\t\\t<li><a  class=\\'menu-hd\\' href=\"#\" \\r\\n\\t\\t\\t\\t\\t\\tdata-toggle=\"pill\" data-target=\"#ContentPane\"  title =\"Click to download Non-Critical Notices\" \\t\\t\\tonClick=\\'unloadContentPane(\"HistoricalDownloadNoticesWC.asp?pipe=AG&type=NON\", event);\\'>Non-Critical</a></li>\\r\\n\\t\\t\\t\\t<li><a  class=\\'menu-hd\\' href=\"#\" \\r\\n\\t\\t\\t\\t\\t\\tdata-toggle=\"pill\" data-target=\"#ContentPane\"  title =\"Click to download Planned Service Outage Notices\" onClick=\\'unloadContentPane(\"HistoricalDownloadNoticesWC.asp?pipe=AG&type=OUT\", event);\\'>Planned Service Outage</a></li>\\r\\n\\t\\t\\t\\r\\n\\t\\t\\t</ul>\\r\\n\\t\\t</li>\\r\\n\\t\\t\\r\\n\\t\\t<li class=\"dropdown-submenu sidebar-menu-item\">\\r\\n\\t\\t\\t<a class=\"sub-level\"  href=\"#\">Transactional Reporting<span class=\"caret\"></span></a>\\r\\n\\t\\t\\t<ul class=\"dropdown-menu\" >\\r\\n\\t\\t\\t\\t<li><a  class=\\'menu-hd\\' href=\"HistoricalDownloadTransactionalReportWC.asp?pipe=AG&type=CR\" \\r\\n\\t\\t\\t\\t\\t\\tdata-toggle=\"pill\" data-target=\"#ContentPane\"  title =\"Click to download Capacity Release Historical Transactional Reports\" onClick=\\'unloadContentPane(\"HistoricalDownloadTransactionalReportWC.asp?pipe=AG&type=CR\", event);\\'>Capacity Release</a></li>\\r\\n\\t\\t\\t\\t<li><a  class=\\'menu-hd\\' href=\"HistoricalDownloadTransactionalReportWC.asp?pipe=AG&type=FR\" \\r\\n\\t\\t\\t\\t\\t\\tdata-toggle=\"pill\" data-target=\"#ContentPane\"  title =\"Click to download Firm Transactional Reports\" onClick=\\'unloadContentPane(\"HistoricalDownloadTransactionalReportWC.asp?pipe=AG&type=FR\", event);\\'>Firm</a></li>\\r\\n\\t\\t\\t\\t<li><a  class=\\'menu-hd\\' href=\"HistoricalDownloadTransactionalReportWC.asp?pipe=AG&type=IT\" \\r\\n\\t\\t\\t\\t\\t\\tdata-toggle=\"pill\" data-target=\"#ContentPane\"  title =\"Click to download Interruptible Transactional Reports\" onClick=\\'unloadContentPane(\"HistoricalDownloadTransactionalReportWC.asp?pipe=AG&type=IT\", event);\\'>Interruptible</a></li>\\r\\n\\t\\t\\t</ul>\\r\\n\\t\\t</li>\\r\\n\\t</ul>\\r\\n</li> <!-- historical -->\\r\\n\\r\\n<!-- OBA Points -->\\r\\n<li id=\"OBAPoint\" class=\"sidebar-menu-item\"><a class=\\'menu-hd\\' href=\\'https://linkwc.enbridge.com/Pointdata/AgtOBAPoints.csv\\' \\r\\n\\tdata-target=\"#ContentPane\"  title =\"Click to view OBA Points\" >OBA Points</a></li>\\r\\n\\r\\n<!-- Rate And Fuel Summary -->\\r\\n<li id=\"RateAndFuel\" class=\"sidebar-menu-item\"><a class=\\'menu-hd\\' href=\"#\" \\r\\n\\t\\tdata-toggle=\"pill\" \\tdata-target=\"#ContentPane\"  title =\"Click to view Rate And Fuel Summary\"  onClick=\\'unloadContentPane(\"/regulatory/tariff/addButton.asp?url=/regulatory/ratecard/ag/agsumm.htm&button=/regulatory/tariff/callprint.asp\", event);\\'>Rate And Fuel Summary</a></li>\\r\\n\\t\\t\\r\\n<!-- EDI Processing -->\\r\\n<li id=\"EdiServices\" class=\"sidebar-menu-item\"><a class=\\'menu-hd\\' href=\"#\"\\r\\n\\tdata-toggle=\"pill\" \\tdata-target=\"#ContentPane\"  title =\"EDI Services\"  onClick=\\'unloadContentPane(\"EdiProcessing.asp?pipe=AG&type=EDI\", event);\\'>EDI Services</a></li>\\r\\n\\r\\n<!-- Other -->\\r\\n<li id=\"Other\" class=\"dropdown sidebar-menu-item\">\\r\\n\\t<a class=\"dropdown-toggle\" data-toggle=\"dropdown\" href=\"#\">Other\\r\\n\\t<span class=\"caret\"></span></a>\\r\\n\\t<ul class=\"dropdown-menu\">\\r\\n\\t\\t<li><a  class=\\'menu-hd\\' target=\"_blank\" href=\\'http://www.enbridge.com/Contact/\\' title =\"Click to view Contacts For Help\" >Contacts For Help</a></li>\\r\\n\\t</ul>\\r\\n</li>\\r\\n\\r\\n<!-- Downloads -->\\r\\n<li id=\"Download\" class=\"dropdown sidebar-menu-item\">\\r\\n\\t<a class=\"dropdown-toggle\" data-toggle=\"dropdown\" href=\"#\">Downloads\\r\\n\\t<span class=\"caret\"></span></a>\\r\\n\\t<ul class=\"dropdown-menu\">\\r\\n\\t\\t<li><a  class=\\'menu-hd\\' href=\"https://linkwc.enbridge.com/Pointdata/AllBusinessAssociates.csv\" \\r\\n\\t\\t\\t title =\"Click to view Business Associate Data\" >Business Associates</a></li>\\r\\n\\t\\t<li><a  class=\\'menu-hd\\' href=\\'https://linkwc.enbridge.com/Pointdata/AgtAllPoints.csv\\' \\r\\n\\t\\t\\t title =\"Click to view Location Data\" >Location Data Download</a></li>\\r\\n\\t\\t<li><a class=\\'menu-hd\\' href=\"https://link.enbridge.com//script2/link_serv_req_forms.htm\" \\r\\n\\t\\t\\t\\tdata-toggle=\"pill\"\\tdata-target=\"#ContentPane\"  onClick=\\'unloadContentPane(\"https://link.enbridge.com/script2/link_serv_req_forms.htm\" ,event)\\' title =\"Click to view Link Service Request Forms\">LINK&reg; Service Request Forms</a></li>\\r\\n\\t\\t<li><a class=\\'menu-hd\\' href=\"/downloads/Nomination_Form.pdf\" \\r\\n\\t\\t\\t\\tdata-toggle=\"pill\"\\tdata-target=\"#ContentPane\"  onClick=\\'unloadContentPane(\"/downloads/Nomination_Form.pdf\", event)\\'   title =\"Click to view Nomination Form\">Nomination Form</a></li>\\r\\n\\t\\t<li><a class=\\'menu-hd\\' href=\"/downloads/PDA_Form.pdf\" \\r\\n\\t\\t\\t\\tdata-toggle=\"pill\"\\tdata-target=\"#ContentPane\"  onClick=\\'unloadContentPane(\"/downloads/PDA_Form.pdf\", event)\\'   title =\"Click to view PDA Form\" >PDA Change Form</a></li>\\r\\n\\t\\t<li><a class=\\'menu-hd\\' href=\"/downloads/NewFacilityRequestForm.pdf\" \\r\\n\\t\\t\\tdata-toggle=\"pill\"\\tdata-target=\"#ContentPane\"  onClick=\\'unloadContentPane(\"/downloads/NewFacilityRequestForm.pdf\", event)\\' title =\"Click to view New Facility Request form\" >New Facility Request Form</a></li>\\r\\n\\t\\r\\n\\t</ul>\\r\\n</li>\\r\\n\\r\\n<!-- Search Tariff -->\\r\\n<li id=\"SearchTraiff\" class=\"dropdown sidebar-menu-item\">\\r\\n\\t<a class=\"dropdown-toggle\" data-toggle=\"dropdown\" href=\"#\">Search\\r\\n\\t<span class=\"caret\"></span></a>\\r\\n\\t<ul class=\"dropdown-menu\">\\r\\n\\t  <li><a class=\\'menu-hd\\' href=\"#\" \\r\\n\\t\\t\\tdata-toggle=\"pill\"\\tdata-target=\"#ContentPane\"  onClick=\\'unloadContentPane(\"/regulatory/tariff/AGTVolumeNo1.pdf#search=\", event, 0);\\' title =\"Click to search Entire Tariff\">Entire Tariff</a></li>\\r\\n\\t  <li><a class=\\'menu-hd\\' href=\"#\" \\r\\n\\t\\t\\tdata-toggle=\"pill\"\\tdata-target=\"#ContentPane\"  onClick=\\'unloadContentPane(\"/regulatory/tariff/AGTVolumeNo1RS.pdf#search=\", event, 0);\\'\\ttitle =\"Click to search Rate Schedules\" >Rate Schedules</a></li>\\r\\n\\t  <li><a class=\\'menu-hd\\' href=\"#\" \\r\\n\\t\\t\\tdata-toggle=\"pill\"\\tdata-target=\"#ContentPane\"  onClick=\\'unloadContentPane(\"/regulatory/tariff/AGTVolumeNo1GTC.pdf#search=\", event, 0);\\'\\ttitle =\"Click to search General Terms and Conditions\">General Terms and Conditions</a></li>\\r\\n\\t  <li><a class=\\'menu-hd\\' href=\"#\" \\r\\n\\t\\t\\tdata-toggle=\"pill\"\\tdata-target=\"#ContentPane\"  onClick=\\'unloadContentPane(\"/regulatory/tariff/AGTVolumeNo1FOSA.pdf#search=\", event, 0);\\'\\ttitle =\"Click to search Form of Service Agreements\" >Form of Service Agreements</a></li>\\r\\n\\t</ul>\\r\\n</li>\\r\\n\\r\\n<!-- Customer Activities -->\\r\\n<li id=\"CustomerActivities\" class=\"sidebar-menu-item\"><a href=\\'https://link.enbridge.com/\\' title = \\'Click for Customer Activities\\' TARGET=\\'_blank\\' >Customer Activities</a></li>\\r\\n\\r\\n<!-- Site Map -->\\r\\n<li id=\"SiteMap\" class=\"sidebar-menu-item\"><a class=\\'menu-hd\\' href=\"#\" \\r\\n\\tdata-toggle=\"pill\"\\t data-target=\"#ContentPane\"  onClick=\\'unloadContentPane(\"CommonSiteMap.asp?pipe=AG\", event);\\' title = \\'Click to view Site Map\\' >Site Map</a></li>\\r\\n\\r\\n\\r\\n\\t\\t\\t\\t\\t</ul> <!-- nav navbar-nav navbar-left -->\\r\\n\\t\\t\\t\\t</div> <!-- collapse navbar-collapse -->\\r\\n\\t\\t\\t\\t\\r\\n\\t\\t\\t</nav> <!-- navbar navbar-default -->\\r\\n\\t\\t</div> <!-- col-sm-2 -->\\r\\n\\t\\t\\r\\n\\t\\t<!-- Content Area -->\\r\\n\\t\\t<div id=\"current-content\" class=\"tab-content col-sm-10\" style=\\'height:100%;\\'>\\r\\n\\t\\t\\t<div class=\"tab-pane active\" id=\"PipeHomeTab\">\\r\\n\\t\\t\\t\\t\\r\\n\\t\\t\\t\\t<Iframe id=\"TabPaneIframe\" src=\\'Body_AG.htm\\'  height=\\'800\\' style=\"border:0; width:100%\"  >\\r\\n\\t\\t\\t\\t</Iframe>\\r\\n\\t\\t\\t</div>\\r\\n\\t\\t\\t\\r\\n\\t\\t\\t<div class=\"tab-pane\" id=\"ContentPane\">\\r\\n\\t\\t\\t\\t<Iframe  id=\"ContentPaneIframe\" src=\\'LoadingMessage.asp\\'  >\\r\\n\\t\\t\\t\\t</Iframe>\\r\\n\\t\\t\\t</div>\\r\\n\\t\\t\\t\\r\\n\\t\\t</div>\\r\\n\\t\\t</div> <!--HomeTab -->\\r\\n\\t</div> <!--container-fluid -->\\r\\n\\t<p class=\"small-vertical-pad\"></p>\\r\\n\\t<div class=\"span12 copyright-footer center\" style=\"text-align: center;\">\\r\\n\\t<div id=\"footer\">\\r\\n\\t\\t<script>\\r\\n\\t\\t\\tcurrentDtTm = new Date();\\r\\n\\t\\t\\tvar cpdate = currentDtTm.getFullYear();\\r\\n\\t\\t\\tdocument.write(\\'<span>&copy;&nbsp;Copyright 1998-\\'+cpdate +\\'&nbsp;</span>\\');\\r\\n\\t\\t</script>\\r\\n\\t\\t<span><a href=\"http://www.enbridge.com/privacy-statement\" target=\"_blank\">Privacy</a>&nbsp;</span>\\r\\n        <span><a href=\"http://www.enbridge.com/termsofuse\" target=\"_blank\">Terms</a>&nbsp;</span>\\r\\n        <a href=\"SiteMap.asp\" title=\"Site Map\" target=\"_blank\">Site Map</a>\\r\\n\\t\\t\\r\\n\\t</div>\\r\\n</div>\\r\\n\\t\\r\\n</div> <!--container-fluid screen-padding -->\\r\\n<script>\\r\\n\\r\\n/******* any links from sidebar menu is clicked, collapse the menu ******/\\r\\n$(\\'.menu-hd\\').click(function() {\\r\\n\\tvar isNav1Expanded = $(\\'#Navbar1\\').is(\":visible\");\\r\\n\\tif (isNav1Expanded) {\\r\\n\\t\\t$(\\'#Navbar1\\').collapse(\\'hide\\');  \\r\\n\\t}\\r\\n\\t$(\\'.navbar-collapse-custom\\').collapse(\\'hide\\');  \\r\\n});\\r\\n\\r\\n/******* sidebar menu control button *****/\\r\\n$(\\'#navbar2-toggle-button\\').click(function() {\\r\\n\\tvar isNav1Expanded = $(\\'#Navbar1\\').is(\":visible\");\\r\\n\\tif (isNav1Expanded) {\\r\\n\\t\\t$(\\'#Navbar1\\').collapse(\\'hide\\');  \\r\\n\\t}\\r\\n});\\r\\n\\r\\n/*****  keep the dropdown open after clicking on a dropdown menu item ********/\\r\\n$(\\'.sidebar-menu-item\\').on({\\r\\n   \"show.bs.dropdown\": function() { $(this).closable = false; },\\r\\n\\t\"hide.bs.dropdown\":  function() { return $(this).attr(\\'closable\\') == \\'true\\'; }\\r\\n});\\r\\n\\r\\n/***** if the child link is clicked keep the parent open but close parent\\'s siblings dropdown ***/\\r\\n$(\\'.sidebar-menu-item\\').on({\\r\\n\\t \"click\":  function(e){\\r\\n\\t\\tvar ch = $(this).children(\\'.dropdown-menu\\');\\r\\n\\t\\tvar target = $(e.target);\\r\\n\\t\\tvar par = target.parent();\\r\\n\\r\\n\\t\\tif(target.hasClass(\"menu-hd\") && !par.hasClass(\".sidebar-menu-item\")\\r\\n\\t\\t\\t&& (target.closest(\".dropdown-menu\").length > 0)){\\r\\n\\t\\t\\t\\t$(this).attr(\\'closable\\', false);\\r\\n\\t\\t}\\r\\n\\t\\telse{\\r\\n\\t\\t\\t$(this).attr(\\'closable\\', true);\\r\\n\\t\\t\\tvar p = target.parent();\\r\\n\\t\\t\\tvar lisiblings = p.siblings();\\r\\n\\t\\t\\tfor (i=0; i<lisiblings.length; i++){\\r\\n\\t\\t\\t\\tvar sib = $(lisiblings[i]);\\r\\n\\t\\t\\t\\tsib.attr(\\'closable\\', true);\\r\\n\\t\\t\\t}\\r\\n\\t\\t}\\r\\n\\t }\\r\\n\\r\\n})\\r\\n\\r\\n/***** sublevel childrens\\'s behaviour **********/\\r\\n$(document).ready(function(){\\r\\n  $(\\'.dropdown-submenu a.sub-level\\').on(\"click\", function(e){\\r\\n\\t\\t$(this).next(\\'ul\\').toggle();\\r\\n\\t\\t e.stopPropagation();\\r\\n\\t\\t e.preventDefault();\\r\\n\\t\\tvar lisiblings = $(this).parent(\\'li\\').siblings(\\'.dropdown-submenu\\');\\r\\n\\t\\tfor (i=0; i<lisiblings.length; i++){\\r\\n\\t\\t\\tvar dd = $(lisiblings[i]).children(\"a.sub-level\");\\r\\n\\t\\t\\tvar ddul = $(dd).next(\\'ul\\');\\r\\n\\t\\t\\tif(ddul.not(\":hidden\")){\\r\\n\\t\\t\\t\\tddul.hide();\\r\\n\\t\\t\\t}\\r\\n\\t\\t}\\r\\n\\t});\\r\\n});\\r\\n\\r\\n$(document).ready(function(){\\r\\n  $(\\'.dropdown-submenu a.menu-hd\\').on(\"click\", function(e){\\r\\n\\t\\tvar aa = $(\\'.dropdown-submenu ul.dropdown-menu li\\');\\r\\n\\t\\taa.removeClass(\"active\");\\r\\n\\t\\t$(this).addClass(\"active\");\\r\\n\\t});\\r\\n\\t\\r\\n});\\r\\n\\r\\n</script>\\r\\n</body>\\r\\n</html>\\r\\n\\r\\n'"
      ]
     },
     "execution_count": 11,
     "metadata": {},
     "output_type": "execute_result"
    }
   ],
   "source": [
    "response.text"
   ]
  },
  {
   "cell_type": "code",
   "execution_count": 12,
   "metadata": {
    "id": "iXhV3d8x7aV4"
   },
   "outputs": [],
   "source": [
    "## actual target url\n",
    "\n",
    "url = \"https://infopost.enbridge.com/InfoPost/NoticesList.asp?pipe=AG&type=CRI\""
   ]
  },
  {
   "cell_type": "code",
   "execution_count": 13,
   "metadata": {
    "id": "59qNUR8_7aZs"
   },
   "outputs": [
    {
     "data": {
      "text/plain": [
       "[                Notice Type        Posted Date/Time  \\\n",
       " 0    Operational Flow Order  11/01/2022 07:14:13 AM   \n",
       " 1       Capacity Constraint  10/31/2022 03:40:00 PM   \n",
       " 2       Capacity Constraint  10/30/2022 03:03:04 PM   \n",
       " 3       Capacity Constraint  10/29/2022 03:13:39 PM   \n",
       " 4       Capacity Constraint  10/28/2022 03:02:00 PM   \n",
       " ..                      ...                     ...   \n",
       " 120     Capacity Constraint  08/06/2022 03:48:31 PM   \n",
       " 121     Capacity Constraint  08/05/2022 03:23:00 PM   \n",
       " 122     Capacity Constraint  08/04/2022 03:16:00 PM   \n",
       " 123     Capacity Constraint  08/04/2022 03:11:11 PM   \n",
       " 124     Capacity Constraint  08/03/2022 03:57:00 PM   \n",
       " \n",
       "     Notice Effective Date/Time    Notice End Date/Time  Notice Identifier  \\\n",
       " 0       11/01/2022 09:00:00 AM  01/30/2023 09:00:00 AM             126922   \n",
       " 1       11/01/2022 09:00:00 AM  11/02/2022 09:00:00 AM             126903   \n",
       " 2       10/31/2022 09:00:00 AM  11/01/2022 09:00:00 AM             126863   \n",
       " 3       10/30/2022 09:00:00 AM  10/31/2022 09:00:00 AM             126840   \n",
       " 4       10/29/2022 09:00:00 AM  10/30/2022 09:00:00 AM             126787   \n",
       " ..                         ...                     ...                ...   \n",
       " 120     08/07/2022 09:00:00 AM  08/08/2022 09:00:00 AM             123656   \n",
       " 121     08/06/2022 09:00:00 AM  08/07/2022 09:00:00 AM             123620   \n",
       " 122     08/05/2022 09:00:00 AM  08/06/2022 09:00:00 AM             123596   \n",
       " 123     08/05/2022 09:00:00 AM  08/06/2022 09:00:00 AM             123595   \n",
       " 124     08/04/2022 09:00:00 AM  08/05/2022 09:00:00 AM             123563   \n",
       " \n",
       "                                                Subject  Response Date/Time  \n",
       " 0                 AGT Operational Flow Order -- LIFTED                 NaN  \n",
       " 1                AGT Pipeline Conditions for 11/1/2022                 NaN  \n",
       " 2               AGT Pipeline Conditions for 10/31/2022                 NaN  \n",
       " 3               AGT Pipeline Conditions for 10/30/2022                 NaN  \n",
       " 4              AGT Pipeline Conditions for 10/29//2022                 NaN  \n",
       " ..                                                 ...                 ...  \n",
       " 120               AGT Pipeline Conditions for 8/7/2022                 NaN  \n",
       " 121               AGT Pipeline Conditions for 8/6/2022                 NaN  \n",
       " 122  AGT Pipeline Conditions for 8/5/2022 -- CORREC...                 NaN  \n",
       " 123               AGT Pipeline Conditions for 8/5/2022                 NaN  \n",
       " 124               AGT Pipeline Conditions for 8/4/2022                 NaN  \n",
       " \n",
       " [125 rows x 7 columns]]"
      ]
     },
     "execution_count": 13,
     "metadata": {},
     "output_type": "execute_result"
    }
   ],
   "source": [
    "response = requests.get(url)\n",
    "data = pd.read_html(response.text)\n",
    "data"
   ]
  },
  {
   "cell_type": "code",
   "execution_count": 14,
   "metadata": {
    "id": "kVPlhQlo7adz"
   },
   "outputs": [
    {
     "data": {
      "text/plain": [
       "list"
      ]
     },
     "execution_count": 14,
     "metadata": {},
     "output_type": "execute_result"
    }
   ],
   "source": [
    "type(data)"
   ]
  },
  {
   "cell_type": "code",
   "execution_count": 15,
   "metadata": {
    "id": "KTDAerkS7auk"
   },
   "outputs": [
    {
     "data": {
      "text/plain": [
       "1"
      ]
     },
     "execution_count": 15,
     "metadata": {},
     "output_type": "execute_result"
    }
   ],
   "source": [
    "len(data)"
   ]
  },
  {
   "cell_type": "code",
   "execution_count": 16,
   "metadata": {
    "id": "qqerx4Hj7aym"
   },
   "outputs": [
    {
     "data": {
      "text/plain": [
       "pandas.core.frame.DataFrame"
      ]
     },
     "execution_count": 16,
     "metadata": {},
     "output_type": "execute_result"
    }
   ],
   "source": [
    "type(data[0])"
   ]
  },
  {
   "cell_type": "code",
   "execution_count": 18,
   "metadata": {
    "id": "VbkNHTl67a2B"
   },
   "outputs": [],
   "source": [
    "ag_data = data[0].copy()"
   ]
  },
  {
   "cell_type": "code",
   "execution_count": 19,
   "metadata": {
    "id": "BjSZO0FX7a56"
   },
   "outputs": [
    {
     "name": "stdout",
     "output_type": "stream",
     "text": [
      "<class 'pandas.core.frame.DataFrame'>\n",
      "RangeIndex: 125 entries, 0 to 124\n",
      "Data columns (total 7 columns):\n",
      " #   Column                      Non-Null Count  Dtype  \n",
      "---  ------                      --------------  -----  \n",
      " 0   Notice Type                 125 non-null    object \n",
      " 1   Posted Date/Time            125 non-null    object \n",
      " 2   Notice Effective Date/Time  125 non-null    object \n",
      " 3   Notice End Date/Time        125 non-null    object \n",
      " 4   Notice Identifier           125 non-null    int64  \n",
      " 5   Subject                     125 non-null    object \n",
      " 6   Response Date/Time          0 non-null      float64\n",
      "dtypes: float64(1), int64(1), object(5)\n",
      "memory usage: 7.0+ KB\n"
     ]
    }
   ],
   "source": [
    "ag_data.info()"
   ]
  },
  {
   "cell_type": "code",
   "execution_count": 21,
   "metadata": {},
   "outputs": [
    {
     "data": {
      "text/html": [
       "<div>\n",
       "<style scoped>\n",
       "    .dataframe tbody tr th:only-of-type {\n",
       "        vertical-align: middle;\n",
       "    }\n",
       "\n",
       "    .dataframe tbody tr th {\n",
       "        vertical-align: top;\n",
       "    }\n",
       "\n",
       "    .dataframe thead th {\n",
       "        text-align: right;\n",
       "    }\n",
       "</style>\n",
       "<table border=\"1\" class=\"dataframe\">\n",
       "  <thead>\n",
       "    <tr style=\"text-align: right;\">\n",
       "      <th></th>\n",
       "      <th>Notice Type</th>\n",
       "      <th>Posted Date/Time</th>\n",
       "      <th>Notice Effective Date/Time</th>\n",
       "      <th>Notice End Date/Time</th>\n",
       "      <th>Notice Identifier</th>\n",
       "      <th>Subject</th>\n",
       "      <th>Response Date/Time</th>\n",
       "    </tr>\n",
       "  </thead>\n",
       "  <tbody>\n",
       "    <tr>\n",
       "      <th>0</th>\n",
       "      <td>Operational Flow Order</td>\n",
       "      <td>11/01/2022 07:14:13 AM</td>\n",
       "      <td>11/01/2022 09:00:00 AM</td>\n",
       "      <td>01/30/2023 09:00:00 AM</td>\n",
       "      <td>126922</td>\n",
       "      <td>AGT Operational Flow Order -- LIFTED</td>\n",
       "      <td>NaN</td>\n",
       "    </tr>\n",
       "    <tr>\n",
       "      <th>1</th>\n",
       "      <td>Capacity Constraint</td>\n",
       "      <td>10/31/2022 03:40:00 PM</td>\n",
       "      <td>11/01/2022 09:00:00 AM</td>\n",
       "      <td>11/02/2022 09:00:00 AM</td>\n",
       "      <td>126903</td>\n",
       "      <td>AGT Pipeline Conditions for 11/1/2022</td>\n",
       "      <td>NaN</td>\n",
       "    </tr>\n",
       "    <tr>\n",
       "      <th>2</th>\n",
       "      <td>Capacity Constraint</td>\n",
       "      <td>10/30/2022 03:03:04 PM</td>\n",
       "      <td>10/31/2022 09:00:00 AM</td>\n",
       "      <td>11/01/2022 09:00:00 AM</td>\n",
       "      <td>126863</td>\n",
       "      <td>AGT Pipeline Conditions for 10/31/2022</td>\n",
       "      <td>NaN</td>\n",
       "    </tr>\n",
       "    <tr>\n",
       "      <th>3</th>\n",
       "      <td>Capacity Constraint</td>\n",
       "      <td>10/29/2022 03:13:39 PM</td>\n",
       "      <td>10/30/2022 09:00:00 AM</td>\n",
       "      <td>10/31/2022 09:00:00 AM</td>\n",
       "      <td>126840</td>\n",
       "      <td>AGT Pipeline Conditions for 10/30/2022</td>\n",
       "      <td>NaN</td>\n",
       "    </tr>\n",
       "    <tr>\n",
       "      <th>4</th>\n",
       "      <td>Capacity Constraint</td>\n",
       "      <td>10/28/2022 03:02:00 PM</td>\n",
       "      <td>10/29/2022 09:00:00 AM</td>\n",
       "      <td>10/30/2022 09:00:00 AM</td>\n",
       "      <td>126787</td>\n",
       "      <td>AGT Pipeline Conditions for 10/29//2022</td>\n",
       "      <td>NaN</td>\n",
       "    </tr>\n",
       "    <tr>\n",
       "      <th>...</th>\n",
       "      <td>...</td>\n",
       "      <td>...</td>\n",
       "      <td>...</td>\n",
       "      <td>...</td>\n",
       "      <td>...</td>\n",
       "      <td>...</td>\n",
       "      <td>...</td>\n",
       "    </tr>\n",
       "    <tr>\n",
       "      <th>120</th>\n",
       "      <td>Capacity Constraint</td>\n",
       "      <td>08/06/2022 03:48:31 PM</td>\n",
       "      <td>08/07/2022 09:00:00 AM</td>\n",
       "      <td>08/08/2022 09:00:00 AM</td>\n",
       "      <td>123656</td>\n",
       "      <td>AGT Pipeline Conditions for 8/7/2022</td>\n",
       "      <td>NaN</td>\n",
       "    </tr>\n",
       "    <tr>\n",
       "      <th>121</th>\n",
       "      <td>Capacity Constraint</td>\n",
       "      <td>08/05/2022 03:23:00 PM</td>\n",
       "      <td>08/06/2022 09:00:00 AM</td>\n",
       "      <td>08/07/2022 09:00:00 AM</td>\n",
       "      <td>123620</td>\n",
       "      <td>AGT Pipeline Conditions for 8/6/2022</td>\n",
       "      <td>NaN</td>\n",
       "    </tr>\n",
       "    <tr>\n",
       "      <th>122</th>\n",
       "      <td>Capacity Constraint</td>\n",
       "      <td>08/04/2022 03:16:00 PM</td>\n",
       "      <td>08/05/2022 09:00:00 AM</td>\n",
       "      <td>08/06/2022 09:00:00 AM</td>\n",
       "      <td>123596</td>\n",
       "      <td>AGT Pipeline Conditions for 8/5/2022 -- CORREC...</td>\n",
       "      <td>NaN</td>\n",
       "    </tr>\n",
       "    <tr>\n",
       "      <th>123</th>\n",
       "      <td>Capacity Constraint</td>\n",
       "      <td>08/04/2022 03:11:11 PM</td>\n",
       "      <td>08/05/2022 09:00:00 AM</td>\n",
       "      <td>08/06/2022 09:00:00 AM</td>\n",
       "      <td>123595</td>\n",
       "      <td>AGT Pipeline Conditions for 8/5/2022</td>\n",
       "      <td>NaN</td>\n",
       "    </tr>\n",
       "    <tr>\n",
       "      <th>124</th>\n",
       "      <td>Capacity Constraint</td>\n",
       "      <td>08/03/2022 03:57:00 PM</td>\n",
       "      <td>08/04/2022 09:00:00 AM</td>\n",
       "      <td>08/05/2022 09:00:00 AM</td>\n",
       "      <td>123563</td>\n",
       "      <td>AGT Pipeline Conditions for 8/4/2022</td>\n",
       "      <td>NaN</td>\n",
       "    </tr>\n",
       "  </tbody>\n",
       "</table>\n",
       "<p>125 rows × 7 columns</p>\n",
       "</div>"
      ],
      "text/plain": [
       "                Notice Type        Posted Date/Time  \\\n",
       "0    Operational Flow Order  11/01/2022 07:14:13 AM   \n",
       "1       Capacity Constraint  10/31/2022 03:40:00 PM   \n",
       "2       Capacity Constraint  10/30/2022 03:03:04 PM   \n",
       "3       Capacity Constraint  10/29/2022 03:13:39 PM   \n",
       "4       Capacity Constraint  10/28/2022 03:02:00 PM   \n",
       "..                      ...                     ...   \n",
       "120     Capacity Constraint  08/06/2022 03:48:31 PM   \n",
       "121     Capacity Constraint  08/05/2022 03:23:00 PM   \n",
       "122     Capacity Constraint  08/04/2022 03:16:00 PM   \n",
       "123     Capacity Constraint  08/04/2022 03:11:11 PM   \n",
       "124     Capacity Constraint  08/03/2022 03:57:00 PM   \n",
       "\n",
       "    Notice Effective Date/Time    Notice End Date/Time  Notice Identifier  \\\n",
       "0       11/01/2022 09:00:00 AM  01/30/2023 09:00:00 AM             126922   \n",
       "1       11/01/2022 09:00:00 AM  11/02/2022 09:00:00 AM             126903   \n",
       "2       10/31/2022 09:00:00 AM  11/01/2022 09:00:00 AM             126863   \n",
       "3       10/30/2022 09:00:00 AM  10/31/2022 09:00:00 AM             126840   \n",
       "4       10/29/2022 09:00:00 AM  10/30/2022 09:00:00 AM             126787   \n",
       "..                         ...                     ...                ...   \n",
       "120     08/07/2022 09:00:00 AM  08/08/2022 09:00:00 AM             123656   \n",
       "121     08/06/2022 09:00:00 AM  08/07/2022 09:00:00 AM             123620   \n",
       "122     08/05/2022 09:00:00 AM  08/06/2022 09:00:00 AM             123596   \n",
       "123     08/05/2022 09:00:00 AM  08/06/2022 09:00:00 AM             123595   \n",
       "124     08/04/2022 09:00:00 AM  08/05/2022 09:00:00 AM             123563   \n",
       "\n",
       "                                               Subject  Response Date/Time  \n",
       "0                 AGT Operational Flow Order -- LIFTED                 NaN  \n",
       "1                AGT Pipeline Conditions for 11/1/2022                 NaN  \n",
       "2               AGT Pipeline Conditions for 10/31/2022                 NaN  \n",
       "3               AGT Pipeline Conditions for 10/30/2022                 NaN  \n",
       "4              AGT Pipeline Conditions for 10/29//2022                 NaN  \n",
       "..                                                 ...                 ...  \n",
       "120               AGT Pipeline Conditions for 8/7/2022                 NaN  \n",
       "121               AGT Pipeline Conditions for 8/6/2022                 NaN  \n",
       "122  AGT Pipeline Conditions for 8/5/2022 -- CORREC...                 NaN  \n",
       "123               AGT Pipeline Conditions for 8/5/2022                 NaN  \n",
       "124               AGT Pipeline Conditions for 8/4/2022                 NaN  \n",
       "\n",
       "[125 rows x 7 columns]"
      ]
     },
     "execution_count": 21,
     "metadata": {},
     "output_type": "execute_result"
    }
   ],
   "source": [
    "ag_data"
   ]
  },
  {
   "cell_type": "code",
   "execution_count": 25,
   "metadata": {
    "collapsed": true
   },
   "outputs": [
    {
     "data": {
      "text/plain": [
       "[126922,\n",
       " 126903,\n",
       " 126863,\n",
       " 126840,\n",
       " 126787,\n",
       " 126767,\n",
       " 126726,\n",
       " 126720,\n",
       " 126676,\n",
       " 126641,\n",
       " 126640,\n",
       " 126637,\n",
       " 126595,\n",
       " 126589,\n",
       " 126570,\n",
       " 126569,\n",
       " 126554,\n",
       " 126520,\n",
       " 126486,\n",
       " 126447,\n",
       " 126441,\n",
       " 126410,\n",
       " 126409,\n",
       " 126408,\n",
       " 126403,\n",
       " 126343,\n",
       " 126317,\n",
       " 126273,\n",
       " 126238,\n",
       " 126203,\n",
       " 126177,\n",
       " 126161,\n",
       " 126127,\n",
       " 126053,\n",
       " 126012,\n",
       " 125979,\n",
       " 125941,\n",
       " 125907,\n",
       " 125866,\n",
       " 125851,\n",
       " 125814,\n",
       " 125765,\n",
       " 125743,\n",
       " 125724,\n",
       " 125720,\n",
       " 125685,\n",
       " 125654,\n",
       " 125602,\n",
       " 125588,\n",
       " 125582,\n",
       " 125539,\n",
       " 125493,\n",
       " 125465,\n",
       " 125449,\n",
       " 125434,\n",
       " 125417,\n",
       " 125390,\n",
       " 125362,\n",
       " 125342,\n",
       " 125295,\n",
       " 125257,\n",
       " 125238,\n",
       " 125210,\n",
       " 125182,\n",
       " 125154,\n",
       " 125122,\n",
       " 125097,\n",
       " 125093,\n",
       " 125065,\n",
       " 125062,\n",
       " 124983,\n",
       " 124931,\n",
       " 124927,\n",
       " 124888,\n",
       " 124868,\n",
       " 124819,\n",
       " 124789,\n",
       " 124751,\n",
       " 124701,\n",
       " 124672,\n",
       " 124648,\n",
       " 124631,\n",
       " 124597,\n",
       " 124550,\n",
       " 124548,\n",
       " 124546,\n",
       " 124538,\n",
       " 124506,\n",
       " 124479,\n",
       " 124478,\n",
       " 124469,\n",
       " 124416,\n",
       " 124389,\n",
       " 124360,\n",
       " 124331,\n",
       " 124298,\n",
       " 124288,\n",
       " 124261,\n",
       " 124214,\n",
       " 124183,\n",
       " 124167,\n",
       " 124141,\n",
       " 124100,\n",
       " 124079,\n",
       " 124085,\n",
       " 124082,\n",
       " 124055,\n",
       " 124051,\n",
       " 123975,\n",
       " 123933,\n",
       " 123908,\n",
       " 123881,\n",
       " 123845,\n",
       " 123809,\n",
       " 123793,\n",
       " 123787,\n",
       " 123742,\n",
       " 123716,\n",
       " 123689,\n",
       " 123684,\n",
       " 123656,\n",
       " 123620,\n",
       " 123596,\n",
       " 123595,\n",
       " 123563]"
      ]
     },
     "execution_count": 25,
     "metadata": {},
     "output_type": "execute_result"
    }
   ],
   "source": [
    "# notice_ids = list(ag_data[\"Notice Identifier\"])\n",
    "notice_ids = ag_data[\"Notice Identifier\"].tolist()\n",
    "notice_ids"
   ]
  },
  {
   "cell_type": "code",
   "execution_count": 26,
   "metadata": {},
   "outputs": [],
   "source": [
    "ph_url = \"https://infopost.enbridge.com/InfoPost/NoticeListDetail.asp?strKey1={}&type=CRI&Embed=2&pipe=AG\""
   ]
  },
  {
   "cell_type": "code",
   "execution_count": 27,
   "metadata": {},
   "outputs": [
    {
     "data": {
      "text/plain": [
       "['https://infopost.enbridge.com/InfoPost/NoticeListDetail.asp?strKey1=126922&type=CRI&Embed=2&pipe=AG',\n",
       " 'https://infopost.enbridge.com/InfoPost/NoticeListDetail.asp?strKey1=126903&type=CRI&Embed=2&pipe=AG',\n",
       " 'https://infopost.enbridge.com/InfoPost/NoticeListDetail.asp?strKey1=126863&type=CRI&Embed=2&pipe=AG',\n",
       " 'https://infopost.enbridge.com/InfoPost/NoticeListDetail.asp?strKey1=126840&type=CRI&Embed=2&pipe=AG',\n",
       " 'https://infopost.enbridge.com/InfoPost/NoticeListDetail.asp?strKey1=126787&type=CRI&Embed=2&pipe=AG',\n",
       " 'https://infopost.enbridge.com/InfoPost/NoticeListDetail.asp?strKey1=126767&type=CRI&Embed=2&pipe=AG',\n",
       " 'https://infopost.enbridge.com/InfoPost/NoticeListDetail.asp?strKey1=126726&type=CRI&Embed=2&pipe=AG',\n",
       " 'https://infopost.enbridge.com/InfoPost/NoticeListDetail.asp?strKey1=126720&type=CRI&Embed=2&pipe=AG',\n",
       " 'https://infopost.enbridge.com/InfoPost/NoticeListDetail.asp?strKey1=126676&type=CRI&Embed=2&pipe=AG',\n",
       " 'https://infopost.enbridge.com/InfoPost/NoticeListDetail.asp?strKey1=126641&type=CRI&Embed=2&pipe=AG',\n",
       " 'https://infopost.enbridge.com/InfoPost/NoticeListDetail.asp?strKey1=126640&type=CRI&Embed=2&pipe=AG',\n",
       " 'https://infopost.enbridge.com/InfoPost/NoticeListDetail.asp?strKey1=126637&type=CRI&Embed=2&pipe=AG',\n",
       " 'https://infopost.enbridge.com/InfoPost/NoticeListDetail.asp?strKey1=126595&type=CRI&Embed=2&pipe=AG',\n",
       " 'https://infopost.enbridge.com/InfoPost/NoticeListDetail.asp?strKey1=126589&type=CRI&Embed=2&pipe=AG',\n",
       " 'https://infopost.enbridge.com/InfoPost/NoticeListDetail.asp?strKey1=126570&type=CRI&Embed=2&pipe=AG',\n",
       " 'https://infopost.enbridge.com/InfoPost/NoticeListDetail.asp?strKey1=126569&type=CRI&Embed=2&pipe=AG',\n",
       " 'https://infopost.enbridge.com/InfoPost/NoticeListDetail.asp?strKey1=126554&type=CRI&Embed=2&pipe=AG',\n",
       " 'https://infopost.enbridge.com/InfoPost/NoticeListDetail.asp?strKey1=126520&type=CRI&Embed=2&pipe=AG',\n",
       " 'https://infopost.enbridge.com/InfoPost/NoticeListDetail.asp?strKey1=126486&type=CRI&Embed=2&pipe=AG',\n",
       " 'https://infopost.enbridge.com/InfoPost/NoticeListDetail.asp?strKey1=126447&type=CRI&Embed=2&pipe=AG',\n",
       " 'https://infopost.enbridge.com/InfoPost/NoticeListDetail.asp?strKey1=126441&type=CRI&Embed=2&pipe=AG',\n",
       " 'https://infopost.enbridge.com/InfoPost/NoticeListDetail.asp?strKey1=126410&type=CRI&Embed=2&pipe=AG',\n",
       " 'https://infopost.enbridge.com/InfoPost/NoticeListDetail.asp?strKey1=126409&type=CRI&Embed=2&pipe=AG',\n",
       " 'https://infopost.enbridge.com/InfoPost/NoticeListDetail.asp?strKey1=126408&type=CRI&Embed=2&pipe=AG',\n",
       " 'https://infopost.enbridge.com/InfoPost/NoticeListDetail.asp?strKey1=126403&type=CRI&Embed=2&pipe=AG',\n",
       " 'https://infopost.enbridge.com/InfoPost/NoticeListDetail.asp?strKey1=126343&type=CRI&Embed=2&pipe=AG',\n",
       " 'https://infopost.enbridge.com/InfoPost/NoticeListDetail.asp?strKey1=126317&type=CRI&Embed=2&pipe=AG',\n",
       " 'https://infopost.enbridge.com/InfoPost/NoticeListDetail.asp?strKey1=126273&type=CRI&Embed=2&pipe=AG',\n",
       " 'https://infopost.enbridge.com/InfoPost/NoticeListDetail.asp?strKey1=126238&type=CRI&Embed=2&pipe=AG',\n",
       " 'https://infopost.enbridge.com/InfoPost/NoticeListDetail.asp?strKey1=126203&type=CRI&Embed=2&pipe=AG',\n",
       " 'https://infopost.enbridge.com/InfoPost/NoticeListDetail.asp?strKey1=126177&type=CRI&Embed=2&pipe=AG',\n",
       " 'https://infopost.enbridge.com/InfoPost/NoticeListDetail.asp?strKey1=126161&type=CRI&Embed=2&pipe=AG',\n",
       " 'https://infopost.enbridge.com/InfoPost/NoticeListDetail.asp?strKey1=126127&type=CRI&Embed=2&pipe=AG',\n",
       " 'https://infopost.enbridge.com/InfoPost/NoticeListDetail.asp?strKey1=126053&type=CRI&Embed=2&pipe=AG',\n",
       " 'https://infopost.enbridge.com/InfoPost/NoticeListDetail.asp?strKey1=126012&type=CRI&Embed=2&pipe=AG',\n",
       " 'https://infopost.enbridge.com/InfoPost/NoticeListDetail.asp?strKey1=125979&type=CRI&Embed=2&pipe=AG',\n",
       " 'https://infopost.enbridge.com/InfoPost/NoticeListDetail.asp?strKey1=125941&type=CRI&Embed=2&pipe=AG',\n",
       " 'https://infopost.enbridge.com/InfoPost/NoticeListDetail.asp?strKey1=125907&type=CRI&Embed=2&pipe=AG',\n",
       " 'https://infopost.enbridge.com/InfoPost/NoticeListDetail.asp?strKey1=125866&type=CRI&Embed=2&pipe=AG',\n",
       " 'https://infopost.enbridge.com/InfoPost/NoticeListDetail.asp?strKey1=125851&type=CRI&Embed=2&pipe=AG',\n",
       " 'https://infopost.enbridge.com/InfoPost/NoticeListDetail.asp?strKey1=125814&type=CRI&Embed=2&pipe=AG',\n",
       " 'https://infopost.enbridge.com/InfoPost/NoticeListDetail.asp?strKey1=125765&type=CRI&Embed=2&pipe=AG',\n",
       " 'https://infopost.enbridge.com/InfoPost/NoticeListDetail.asp?strKey1=125743&type=CRI&Embed=2&pipe=AG',\n",
       " 'https://infopost.enbridge.com/InfoPost/NoticeListDetail.asp?strKey1=125724&type=CRI&Embed=2&pipe=AG',\n",
       " 'https://infopost.enbridge.com/InfoPost/NoticeListDetail.asp?strKey1=125720&type=CRI&Embed=2&pipe=AG',\n",
       " 'https://infopost.enbridge.com/InfoPost/NoticeListDetail.asp?strKey1=125685&type=CRI&Embed=2&pipe=AG',\n",
       " 'https://infopost.enbridge.com/InfoPost/NoticeListDetail.asp?strKey1=125654&type=CRI&Embed=2&pipe=AG',\n",
       " 'https://infopost.enbridge.com/InfoPost/NoticeListDetail.asp?strKey1=125602&type=CRI&Embed=2&pipe=AG',\n",
       " 'https://infopost.enbridge.com/InfoPost/NoticeListDetail.asp?strKey1=125588&type=CRI&Embed=2&pipe=AG',\n",
       " 'https://infopost.enbridge.com/InfoPost/NoticeListDetail.asp?strKey1=125582&type=CRI&Embed=2&pipe=AG',\n",
       " 'https://infopost.enbridge.com/InfoPost/NoticeListDetail.asp?strKey1=125539&type=CRI&Embed=2&pipe=AG',\n",
       " 'https://infopost.enbridge.com/InfoPost/NoticeListDetail.asp?strKey1=125493&type=CRI&Embed=2&pipe=AG',\n",
       " 'https://infopost.enbridge.com/InfoPost/NoticeListDetail.asp?strKey1=125465&type=CRI&Embed=2&pipe=AG',\n",
       " 'https://infopost.enbridge.com/InfoPost/NoticeListDetail.asp?strKey1=125449&type=CRI&Embed=2&pipe=AG',\n",
       " 'https://infopost.enbridge.com/InfoPost/NoticeListDetail.asp?strKey1=125434&type=CRI&Embed=2&pipe=AG',\n",
       " 'https://infopost.enbridge.com/InfoPost/NoticeListDetail.asp?strKey1=125417&type=CRI&Embed=2&pipe=AG',\n",
       " 'https://infopost.enbridge.com/InfoPost/NoticeListDetail.asp?strKey1=125390&type=CRI&Embed=2&pipe=AG',\n",
       " 'https://infopost.enbridge.com/InfoPost/NoticeListDetail.asp?strKey1=125362&type=CRI&Embed=2&pipe=AG',\n",
       " 'https://infopost.enbridge.com/InfoPost/NoticeListDetail.asp?strKey1=125342&type=CRI&Embed=2&pipe=AG',\n",
       " 'https://infopost.enbridge.com/InfoPost/NoticeListDetail.asp?strKey1=125295&type=CRI&Embed=2&pipe=AG',\n",
       " 'https://infopost.enbridge.com/InfoPost/NoticeListDetail.asp?strKey1=125257&type=CRI&Embed=2&pipe=AG',\n",
       " 'https://infopost.enbridge.com/InfoPost/NoticeListDetail.asp?strKey1=125238&type=CRI&Embed=2&pipe=AG',\n",
       " 'https://infopost.enbridge.com/InfoPost/NoticeListDetail.asp?strKey1=125210&type=CRI&Embed=2&pipe=AG',\n",
       " 'https://infopost.enbridge.com/InfoPost/NoticeListDetail.asp?strKey1=125182&type=CRI&Embed=2&pipe=AG',\n",
       " 'https://infopost.enbridge.com/InfoPost/NoticeListDetail.asp?strKey1=125154&type=CRI&Embed=2&pipe=AG',\n",
       " 'https://infopost.enbridge.com/InfoPost/NoticeListDetail.asp?strKey1=125122&type=CRI&Embed=2&pipe=AG',\n",
       " 'https://infopost.enbridge.com/InfoPost/NoticeListDetail.asp?strKey1=125097&type=CRI&Embed=2&pipe=AG',\n",
       " 'https://infopost.enbridge.com/InfoPost/NoticeListDetail.asp?strKey1=125093&type=CRI&Embed=2&pipe=AG',\n",
       " 'https://infopost.enbridge.com/InfoPost/NoticeListDetail.asp?strKey1=125065&type=CRI&Embed=2&pipe=AG',\n",
       " 'https://infopost.enbridge.com/InfoPost/NoticeListDetail.asp?strKey1=125062&type=CRI&Embed=2&pipe=AG',\n",
       " 'https://infopost.enbridge.com/InfoPost/NoticeListDetail.asp?strKey1=124983&type=CRI&Embed=2&pipe=AG',\n",
       " 'https://infopost.enbridge.com/InfoPost/NoticeListDetail.asp?strKey1=124931&type=CRI&Embed=2&pipe=AG',\n",
       " 'https://infopost.enbridge.com/InfoPost/NoticeListDetail.asp?strKey1=124927&type=CRI&Embed=2&pipe=AG',\n",
       " 'https://infopost.enbridge.com/InfoPost/NoticeListDetail.asp?strKey1=124888&type=CRI&Embed=2&pipe=AG',\n",
       " 'https://infopost.enbridge.com/InfoPost/NoticeListDetail.asp?strKey1=124868&type=CRI&Embed=2&pipe=AG',\n",
       " 'https://infopost.enbridge.com/InfoPost/NoticeListDetail.asp?strKey1=124819&type=CRI&Embed=2&pipe=AG',\n",
       " 'https://infopost.enbridge.com/InfoPost/NoticeListDetail.asp?strKey1=124789&type=CRI&Embed=2&pipe=AG',\n",
       " 'https://infopost.enbridge.com/InfoPost/NoticeListDetail.asp?strKey1=124751&type=CRI&Embed=2&pipe=AG',\n",
       " 'https://infopost.enbridge.com/InfoPost/NoticeListDetail.asp?strKey1=124701&type=CRI&Embed=2&pipe=AG',\n",
       " 'https://infopost.enbridge.com/InfoPost/NoticeListDetail.asp?strKey1=124672&type=CRI&Embed=2&pipe=AG',\n",
       " 'https://infopost.enbridge.com/InfoPost/NoticeListDetail.asp?strKey1=124648&type=CRI&Embed=2&pipe=AG',\n",
       " 'https://infopost.enbridge.com/InfoPost/NoticeListDetail.asp?strKey1=124631&type=CRI&Embed=2&pipe=AG',\n",
       " 'https://infopost.enbridge.com/InfoPost/NoticeListDetail.asp?strKey1=124597&type=CRI&Embed=2&pipe=AG',\n",
       " 'https://infopost.enbridge.com/InfoPost/NoticeListDetail.asp?strKey1=124550&type=CRI&Embed=2&pipe=AG',\n",
       " 'https://infopost.enbridge.com/InfoPost/NoticeListDetail.asp?strKey1=124548&type=CRI&Embed=2&pipe=AG',\n",
       " 'https://infopost.enbridge.com/InfoPost/NoticeListDetail.asp?strKey1=124546&type=CRI&Embed=2&pipe=AG',\n",
       " 'https://infopost.enbridge.com/InfoPost/NoticeListDetail.asp?strKey1=124538&type=CRI&Embed=2&pipe=AG',\n",
       " 'https://infopost.enbridge.com/InfoPost/NoticeListDetail.asp?strKey1=124506&type=CRI&Embed=2&pipe=AG',\n",
       " 'https://infopost.enbridge.com/InfoPost/NoticeListDetail.asp?strKey1=124479&type=CRI&Embed=2&pipe=AG',\n",
       " 'https://infopost.enbridge.com/InfoPost/NoticeListDetail.asp?strKey1=124478&type=CRI&Embed=2&pipe=AG',\n",
       " 'https://infopost.enbridge.com/InfoPost/NoticeListDetail.asp?strKey1=124469&type=CRI&Embed=2&pipe=AG',\n",
       " 'https://infopost.enbridge.com/InfoPost/NoticeListDetail.asp?strKey1=124416&type=CRI&Embed=2&pipe=AG',\n",
       " 'https://infopost.enbridge.com/InfoPost/NoticeListDetail.asp?strKey1=124389&type=CRI&Embed=2&pipe=AG',\n",
       " 'https://infopost.enbridge.com/InfoPost/NoticeListDetail.asp?strKey1=124360&type=CRI&Embed=2&pipe=AG',\n",
       " 'https://infopost.enbridge.com/InfoPost/NoticeListDetail.asp?strKey1=124331&type=CRI&Embed=2&pipe=AG',\n",
       " 'https://infopost.enbridge.com/InfoPost/NoticeListDetail.asp?strKey1=124298&type=CRI&Embed=2&pipe=AG',\n",
       " 'https://infopost.enbridge.com/InfoPost/NoticeListDetail.asp?strKey1=124288&type=CRI&Embed=2&pipe=AG',\n",
       " 'https://infopost.enbridge.com/InfoPost/NoticeListDetail.asp?strKey1=124261&type=CRI&Embed=2&pipe=AG',\n",
       " 'https://infopost.enbridge.com/InfoPost/NoticeListDetail.asp?strKey1=124214&type=CRI&Embed=2&pipe=AG',\n",
       " 'https://infopost.enbridge.com/InfoPost/NoticeListDetail.asp?strKey1=124183&type=CRI&Embed=2&pipe=AG',\n",
       " 'https://infopost.enbridge.com/InfoPost/NoticeListDetail.asp?strKey1=124167&type=CRI&Embed=2&pipe=AG',\n",
       " 'https://infopost.enbridge.com/InfoPost/NoticeListDetail.asp?strKey1=124141&type=CRI&Embed=2&pipe=AG',\n",
       " 'https://infopost.enbridge.com/InfoPost/NoticeListDetail.asp?strKey1=124100&type=CRI&Embed=2&pipe=AG',\n",
       " 'https://infopost.enbridge.com/InfoPost/NoticeListDetail.asp?strKey1=124079&type=CRI&Embed=2&pipe=AG',\n",
       " 'https://infopost.enbridge.com/InfoPost/NoticeListDetail.asp?strKey1=124085&type=CRI&Embed=2&pipe=AG',\n",
       " 'https://infopost.enbridge.com/InfoPost/NoticeListDetail.asp?strKey1=124082&type=CRI&Embed=2&pipe=AG',\n",
       " 'https://infopost.enbridge.com/InfoPost/NoticeListDetail.asp?strKey1=124055&type=CRI&Embed=2&pipe=AG',\n",
       " 'https://infopost.enbridge.com/InfoPost/NoticeListDetail.asp?strKey1=124051&type=CRI&Embed=2&pipe=AG',\n",
       " 'https://infopost.enbridge.com/InfoPost/NoticeListDetail.asp?strKey1=123975&type=CRI&Embed=2&pipe=AG',\n",
       " 'https://infopost.enbridge.com/InfoPost/NoticeListDetail.asp?strKey1=123933&type=CRI&Embed=2&pipe=AG',\n",
       " 'https://infopost.enbridge.com/InfoPost/NoticeListDetail.asp?strKey1=123908&type=CRI&Embed=2&pipe=AG',\n",
       " 'https://infopost.enbridge.com/InfoPost/NoticeListDetail.asp?strKey1=123881&type=CRI&Embed=2&pipe=AG',\n",
       " 'https://infopost.enbridge.com/InfoPost/NoticeListDetail.asp?strKey1=123845&type=CRI&Embed=2&pipe=AG',\n",
       " 'https://infopost.enbridge.com/InfoPost/NoticeListDetail.asp?strKey1=123809&type=CRI&Embed=2&pipe=AG',\n",
       " 'https://infopost.enbridge.com/InfoPost/NoticeListDetail.asp?strKey1=123793&type=CRI&Embed=2&pipe=AG',\n",
       " 'https://infopost.enbridge.com/InfoPost/NoticeListDetail.asp?strKey1=123787&type=CRI&Embed=2&pipe=AG',\n",
       " 'https://infopost.enbridge.com/InfoPost/NoticeListDetail.asp?strKey1=123742&type=CRI&Embed=2&pipe=AG',\n",
       " 'https://infopost.enbridge.com/InfoPost/NoticeListDetail.asp?strKey1=123716&type=CRI&Embed=2&pipe=AG',\n",
       " 'https://infopost.enbridge.com/InfoPost/NoticeListDetail.asp?strKey1=123689&type=CRI&Embed=2&pipe=AG',\n",
       " 'https://infopost.enbridge.com/InfoPost/NoticeListDetail.asp?strKey1=123684&type=CRI&Embed=2&pipe=AG',\n",
       " 'https://infopost.enbridge.com/InfoPost/NoticeListDetail.asp?strKey1=123656&type=CRI&Embed=2&pipe=AG',\n",
       " 'https://infopost.enbridge.com/InfoPost/NoticeListDetail.asp?strKey1=123620&type=CRI&Embed=2&pipe=AG',\n",
       " 'https://infopost.enbridge.com/InfoPost/NoticeListDetail.asp?strKey1=123596&type=CRI&Embed=2&pipe=AG',\n",
       " 'https://infopost.enbridge.com/InfoPost/NoticeListDetail.asp?strKey1=123595&type=CRI&Embed=2&pipe=AG',\n",
       " 'https://infopost.enbridge.com/InfoPost/NoticeListDetail.asp?strKey1=123563&type=CRI&Embed=2&pipe=AG']"
      ]
     },
     "execution_count": 27,
     "metadata": {},
     "output_type": "execute_result"
    }
   ],
   "source": [
    "notice_links = [ph_url.format(notice_id) for notice_id in notice_ids]\n",
    "notice_links"
   ]
  },
  {
   "cell_type": "markdown",
   "metadata": {
    "id": "KtAxIHwN7DcC"
   },
   "source": [
    "# What if we wanted to scrape ALL the gas lines?\n"
   ]
  },
  {
   "cell_type": "code",
   "execution_count": 28,
   "metadata": {
    "id": "HqPqVmFd7Nmi"
   },
   "outputs": [],
   "source": [
    "## place holder url\n",
    "\n",
    "ph_url = \"https://infopost.enbridge.com/InfoPost/NoticesList.asp?pipe={}&type=CRI\""
   ]
  },
  {
   "cell_type": "code",
   "execution_count": 30,
   "metadata": {
    "collapsed": true
   },
   "outputs": [
    {
     "data": {
      "text/plain": [
       "<!DOCTYPE html>\n",
       "\n",
       "<!-- template.asp -->\n",
       "<html lang=\"en\">\n",
       "<head>\n",
       "<meta charset=\"utf-8\"/>\n",
       "<meta content=\"IE=edge\" http-equiv=\"X-UA-Compatible\"/>\n",
       "<meta content=\"width=device-width, initial-scale=1.0\" name=\"viewport\"/>\n",
       "<link href=\"favicon.ico\" rel=\"shortcut icon\"/>\n",
       "<link href=\"css/jquery-ui.min.css\" rel=\"stylesheet\" type=\"text/css\"/>\n",
       "<link href=\"css/bootstrap.min.css\" rel=\"stylesheet\"/>\n",
       "<link href=\"css/font-awesome-ie7.min.css\" rel=\"stylesheet\">\n",
       "<link href=\"css/font-awesome.css\" rel=\"stylesheet\"/>\n",
       "<link href=\"css/link.css\" rel=\"stylesheet\">\n",
       "<link href=\"css/print.css\" media=\"print\" rel=\"stylesheet\"/>\n",
       "<link href=\"css/infopost-custom.css\" media=\"screen\" rel=\"stylesheet\"/>\n",
       "<link href=\"css/environment.css\" media=\"screen\" rel=\"stylesheet\"/>\n",
       "<!-- HTML5 shim, for IE6-9 support of HTML5 elements -->\n",
       "<!--[if lt IE 9]>\n",
       "\t<link href=\"css/link-ie.css\" rel=\"stylesheet\" />\n",
       "\t<script src=\"scripts/html5shiv.js\" type=\"text/javascript\"></script>\n",
       "\t<script src=\"scripts/html5shiv-printshiv.js\" type=\"text/javascript\"></script>\n",
       "\t<script src=\"scripts/respond.js\" type=\"text/javascript\"></script>\n",
       "<![endif]-->\n",
       "<style>\n",
       "</style>\n",
       "<script src=\"scripts/jquery-1.11.0.min.js\" type=\"text/javascript\"></script>\n",
       "<script src=\"scripts/jquery-ui-1.11.1.min.js\" type=\"text/javascript\"></script>\n",
       "<script src=\"scripts/bootstrap-3.1.1.min.js\" type=\"text/javascript\"></script>\n",
       "<script src=\"scripts/CommonScripts.js\" type=\"text/javascript\"></script>\n",
       "<script src=\"scripts/cookies.js\" type=\"text/javascript\"></script>\n",
       "<script language=\"JavaScript\" src=\"scripts/load_popup-1.2.js\" type=\"Text/JavaScript\"></script>\n",
       "<title>LINK® Informational Postings</title>\n",
       "<script>\n",
       "\tvar pipeCodeList = 'AG|BGS|BIG|BSP|EG|ET|GB|GPL|MCGP|MB|MNCA|MNUS|MR|NPC|NXCA|NXUS|SESH|SG|SR|STT|TE|VCP|WRGS|';\n",
       "var pipeNameList = 'Algonquin|Bobcat Gas Storage|BIG Pipeline|Big Sandy Pipeline|MHP Egan|East Tennessee|Garden Banks|Generation  Pipeline|Mississippi Canyon|MHP Moss Bluff|Maritimes & Northeast Canada|Maritimes & Northeast U.S.|Manta Ray Offshore Gathering Company|Nautilus Pipeline Company|NEXUS ULC|NEXUS U.S.|Southeast Supply Header|Saltville|Steckman Ridge|Sabal Trail|Texas Eastern|Valley Crossing Pipeline|Walker Ridge Gathering System |';\n",
       "var pipeLegalCode = 'AG|BGS|BIG|BSP|EG|ET|GB|GPL|MCGP|MB|MNCA|MNUS|MR|NPC|NXCA|NXUS|SESH|SG|SR|STT|TE|VCP|WRGS|';var pipeLegalName = 'Algonquin Gas Transmission, LLC - 006951446|Bobcat Gas Storage - 614834559|Brazoria Interconnector Gas Pipeline, LLC  - 809456739|Big Sandy Pipeline - 968195714|Egan Hub Storage, LLC - 835460478|East Tennessee Natural Gas, LLC - 007921323|Garden Banks Gas Pipeline, LLC - 966981599|Generation Pipeline, LLC - 036638044|Mississippi Canyon Gas Pipeline, LLC - 946822749|Moss Bluff Hub, LLC - 031369874|Maritimes & Northeast Pipeline, Canada - 251930723|Maritimes & Northeast Pipeline, L.L.C. - 081787256|Manta Ray Offshore Gathering Company, L.L.C. - 030524854|Nautilus Pipeline Company, L.L.C. - 176824738|NEXUS CAPACITY SERVICES, ULC - 080685281|NEXUS Gas Transmission, LLC - 080151107|Southeast Supply Header, LLC - 808264746|Saltville Gas Storage Company L.L.C - 791287274|Steckman Ridge, LP - 827593182|Sabal Trail Transmission - 930373670|Texas Eastern Transmission, LP - 007932908|Valley Crossing Pipeline, LLC - 080429578| Walker Ridge Gathering System, L.L.C. - |';var pipeLineAbbr = 'AGT|BGS|BIG|BSP|EHP|ETNG|GB|GPL|MCGP|MBHP|MNCA|MNUS|MR|NPC|NXCA|NXUS|SESH|SGSC|SR|STT|TE|VCP|WRGS|';\n",
       "\tfunction showWeather() {\n",
       "\t\twindow.open(\"Weather.asp\",\"Weather\",\"toolbar=no,menubar=no,resizable=yes,scrollbars=no\");\n",
       "\t\treturn false;\n",
       "\t}\n",
       "\t\n",
       "\tfunction displayPopup(){\n",
       "\t\tvar url = window.location.href ;\n",
       "\t\tvar sURL = \"\";\t\n",
       "\t\t\n",
       "\t\tif(url.toLowerCase().indexOf('spectraenergy.com') > 1)\n",
       "\t\t\tdisplayPopup1('05/06/2021','08/08/2017');\n",
       "\t\t\t\n",
       "\t}\n",
       "</script>\n",
       "</link></link></head>\n",
       "<body class=\"html-body\" onload=\"setupPipes(''); displayPopup();\">\n",
       "<div class=\"container-fluid screen-padding\">\n",
       "<div class=\"header\">\n",
       "<div class=\"branding hidden-xs\">\n",
       "<div class=\"nav-right\">\n",
       "<ul class=\"list-inline\">\n",
       "<li class=\"hidden-print\"><a href=\"https://link.enbridge.com/Tutorials.asp\" target=\"_blank\">Tutorials</a></li>\n",
       "<li class=\"hidden-print\"><a href='javascript:void(window.open(\"https://link.enbridge.com/Contact.asp\", \"\", \"width=750,height=600,menubar=0,toolbar=0,screenX=300,screenY=300, scrollbars=yes\"));'>Contact Us</a></li>\n",
       "<li class=\"hidden-print\"><a href=\"http://www.enbridge.com\" target=\"_blank\"></a><img alt=\"Enbridge Inc.\" src=\"/images/CORPORATE_LOGO.jpg\"/></li>\n",
       "</ul>\n",
       "</div>\n",
       "<img alt=\"LINK System\" src=\"/images/link_logo_infopost.gif\"/>\n",
       "<div class=\"visible-print screen-title\"></div>\n",
       "<div class=\"clear\"></div>\n",
       "</div>\n",
       "<nav class=\"navbar navbar-print\">\n",
       "<div class=\"container-fluid\">\n",
       "<div class=\"navbar-header\">\n",
       "<button class=\"navbar-toggle\" data-target=\"#Navbar1\" data-toggle=\"collapse\" id=\"navbar1-toggle-button\" title=\"Show/Hide Menu\" type=\"button\">\n",
       "<span class=\"sr-only\">Toggle navigation</span>\n",
       "<i class=\"fa fa-bars\"></i>\n",
       "</button>\n",
       "<a class=\"navbar-brand\" data-placement=\"bottom\" data-toggle=\"tooltip\" href=\"./\" title=\"LINK® Informational Postings\"><i class=\"fa fa-home\"></i></a>\n",
       "</div>\n",
       "<div class=\"collapse navbar-collapse\" id=\"Navbar1\">\n",
       "<ul class=\"nav navbar-nav\" id=\"select-pipe-navbar\">\n",
       "<li class=\"Pipe-dropdown\">\n",
       "<a class=\"dropdown-toggle\" data-toggle=\"dropdown\" href=\"#\" style=\"line-height: 15px; font-size:11px;\" title=\"Select Business Unit\">Select Business Unit<b class=\"caret\"></b></a>\n",
       "<ul class=\"dropdown-menu select-pipe-dropdown-menu\" id=\"dropdown\">\n",
       "<li><a href=\"AGHome.asp?Pipe=AG\">Algonquin (AGT)</a></li><li><a href=\"BGSHome.asp?Pipe=BGS\">Bobcat Gas Storage (BGS)</a></li><li><a href=\"BIGHome.asp?Pipe=BIG\">BIG Pipeline (BIG)</a></li><li><a href=\"BSPHome.asp?Pipe=BSP\">Big Sandy Pipeline (BSP)</a></li><li><a href=\"EGHome.asp?Pipe=EG\">MHP Egan (EHP)</a></li><li><a href=\"ETHome.asp?Pipe=ET\">East Tennessee (ETNG)</a></li><li><a href=\"GBHome.asp?Pipe=GB\">Garden Banks (GB)</a></li><li><a href=\"GPLHome.asp?Pipe=GPL\">Generation  Pipeline (GPL)</a></li><li><a href=\"MCGPHome.asp?Pipe=MCGP\">Mississippi Canyon (MCGP)</a></li><li><a href=\"MBHome.asp?Pipe=MB\">MHP Moss Bluff (MBHP)</a></li><li><a href=\"MNCAHome.asp?Pipe=MNCA\">Maritimes &amp; Northeast Canada (MNCA)</a></li><li><a href=\"MNUSHome.asp?Pipe=MNUS\">Maritimes &amp; Northeast U.S. (MNUS)</a></li><li><a href=\"MRHome.asp?Pipe=MR\">Manta Ray Offshore Gathering Company (MR)</a></li><li><a href=\"NPCHome.asp?Pipe=NPC\">Nautilus Pipeline Company (NPC)</a></li><li><a href=\"NXCAHome.asp?Pipe=NXCA\">NEXUS ULC (NXCA)</a></li><li><a href=\"NXUSHome.asp?Pipe=NXUS\">NEXUS U.S. (NXUS)</a></li><li><a href=\"SESHHome.asp?Pipe=SESH\">Southeast Supply Header (SESH)</a></li><li><a href=\"SGHome.asp?Pipe=SG\">Saltville (SGSC)</a></li><li><a href=\"SRHome.asp?Pipe=SR\">Steckman Ridge (SR)</a></li><li><a href=\"STTHome.asp?Pipe=STT\">Sabal Trail (STT)</a></li><li><a href=\"TEHome.asp?Pipe=TE\">Texas Eastern (TE)</a></li><li><a href=\"VCPHome.asp?Pipe=VCP\">Valley Crossing Pipeline (VCP)</a></li><li><a href=\"WRGSHome.asp?Pipe=WRGS\">Walker Ridge Gathering System  (WRGS)</a></li>\n",
       "</ul>\n",
       "</li>\n",
       "<li>\n",
       "<a data-placement=\"bottom\" data-toggle=\"tooltip\" href=\"https://link.enbridge.com//CustomerActivitiesLogin.asp\" style=\"font-size:11px;\" title=\"LINK® Customer Login\">Customer Activities (Login)</a>\n",
       "</li>\n",
       "</ul>\n",
       "</div>\n",
       "</div>\n",
       "</nav>\n",
       "<div class=\"page-title no-print\">\n",
       "<div class=\"text-container screen-title\"></div>\n",
       "<div class=\"system-time\" style=\"margin-top: -10px;\">\n",
       "<script>\n",
       "\t\t\t\t\tvar serverTime = new Date('11/1/2022 10:26:23 AM');\n",
       "\t\t\t\t\t\n",
       "\t\t\t\t\tvar mm = serverTime.getMonth()+1;\n",
       "\t\t\t\t\tvar dd = serverTime.getDate();\n",
       "\t\t\t\t\tvar yyyy = serverTime.getFullYear();\n",
       "\t\t\t\t\tvar date = mm + \"/\" + dd + \"/\" + yyyy;\n",
       "\t\t\t\t\tdocument.write('<span id=\"systemDate\" class=\"clock hidden-xs badge badge-info\">'+date+'</span>');\n",
       "\t\t\t\t\t\n",
       "\t\t\t\t</script>\n",
       "</div>\n",
       "<div class=\"environment\" id=\"envBadge\">\n",
       "<span class=\"hidden-xs badge badge-success\" id=\"environmentBadge\"> InfoPost QA </span>\n",
       "</div>\n",
       "</div>\n",
       "<p class=\"hidden-xs tiny-vertical-pad\"></p>\n",
       "</div>\n",
       "<script>\n",
       "/*$(document).ready(function(){\n",
       "    $('[data-toggle=\"tooltip\"]').tooltip();\n",
       "\t$('.navbar-toggle').tooltip();\n",
       "});*/\n",
       "</script>\n",
       "<div class=\"container\">\n",
       "<div class=\"col-sm-6\">\n",
       "<div class=\"row-fluid\">\n",
       "<div class=\"text_box\">\n",
       "<h2>Customer Support</h2>\n",
       "<div class=\"accordion-inner\">\n",
       "<p>\n",
       "\t\t\t\t\t\tFor LINK® application support, please call 1-800-827-LINK (5465),\n",
       "\t\t\t\t\t\t713-989-LINK, or email the LINK® Help Desk \n",
       "\t\t\t\t\t\t<a href=\"mailto:link-help@enbridge.com\"><i class=\"fa fa-envelope\"></i></a>. Additional online support can be found on the\n",
       "\t\t\t\t\t\t<a href=\"https://link.enbridge.com/Tutorials.asp\" target=\"_blank\">tutorial page</a>. For after hours business support, please contact Volume Management at 713-627-5059.\n",
       "\t\t\t\t\t</p>\n",
       "</div>\n",
       "</div>\n",
       "<div class=\"text_box\">\n",
       "<h2>Critical Notices </h2>\n",
       "<div class=\"accordion-inner\">\n",
       "<iframe id=\"Critical\" src=\"https://infopost.enbridge.com/InfoPostFrameContent/IframeLinkCriticalNotices.asp\" style=\"border:none;\" width=\"100%\"></iframe>\n",
       "</div>\n",
       "</div>\n",
       "<div class=\"text_box\">\n",
       "<h2>Non-Critical Notices </h2>\n",
       "<div class=\"accordion-inner\">\n",
       "<iframe id=\"nonCritical\" src=\"https://infopost.enbridge.com/InfoPostFrameContent/IframeLinkNonCriticalNotices.asp\" style=\"border:none;\" width=\"100%\"></iframe>\n",
       "</div>\n",
       "</div>\n",
       "</div> <!-- raw-fluid -->\n",
       "</div><!--col-sm-6 -->\n",
       "<div class=\"col-sm-6\">\n",
       "<div class=\"row-fluid\">\n",
       "<div class=\"carousel slide hidden-xs\" data-interval=\"3000\" id=\"welcome-carousel\" style=\"margin-top: 7px;margin-bottom: 20px;\">\n",
       "<ol class=\"carousel-indicators\">\n",
       "<li class=\"active\" data-slide-to=\"0\" data-target=\"#welcome-carousel\"></li>\n",
       "<li data-slide-to=\"1\" data-target=\"#welcome-carousel\"></li>\n",
       "<li data-slide-to=\"2\" data-target=\"#welcome-carousel\"></li>\n",
       "<li data-slide-to=\"3\" data-target=\"#welcome-carousel\"></li>\n",
       "</ol>\n",
       "<div class=\"carousel-inner ui-widget ui-widget-content ui-corner-all\">\n",
       "<div class=\"item active\" id=\"welcome\">\n",
       "<a href=\"http://www.enbridge.com\" target=\"_blank\">\n",
       "<img alt=\"LINK System\" src=\"/images/linksystem-carousel-notext.png\">\n",
       "<div class=\"carousel-welcome-container\" style=\"position: relative;\">\n",
       "<div class=\"carousel-welcome-text\">\n",
       "<p>Welcome to Enbridge Inc's<br/>LINK® System Informational Postings.</p>\n",
       "<p>We create superior and sustainable value by providing<br/>natural gas gathering and processing, transmission, storage<br/>and distribution services.<br/></p>\n",
       "<p>For more information go to www.enbridge.com</p>\n",
       "</div>\n",
       "</div>\n",
       "</img></a>\n",
       "<div class=\"carousel-caption\">\n",
       "<h4>Welcome</h4>\n",
       "</div>\n",
       "</div>\n",
       "<div class=\"item\" id=\"assets\">\n",
       "<a href=\"https://link.enbridge.com/CorporateAssets.asp\" target=\"_blank\">\n",
       "<img alt=\"Click to view Enbridge Assests\" src=\"/images/CORPORATE_Asset_Map.png\">\n",
       "</img></a>\n",
       "<div class=\"carousel-caption\">\n",
       "<h4>Assets</h4>\n",
       "</div>\n",
       "</div>\n",
       "<div class=\"item\" id=\"weather\">\n",
       "<a href=\"https://link.enbridge.com/Weather.asp\" target=\"_blank\">\n",
       "<img alt=\"Click to view weather\" src=\"https://link.enbridge.com//WeatherImages/\"/>\n",
       "</a>\n",
       "<div class=\"carousel-caption\">\n",
       "<h4>Weather</h4>\n",
       "</div>\n",
       "</div>\n",
       "<div class=\"item\" id=\"board\">\n",
       "<a href=\"LinkBoardTab.asp\" target=\"_blank\">\n",
       "<img alt=\"Click to read more about LINK Board\" src=\"https://link.enbridge.com//images/LinkBoardTabImage.JPG\"/>\n",
       "</a>\n",
       "<div class=\"carousel-caption\">\n",
       "<h4>The Board</h4>\n",
       "</div>\n",
       "</div>\n",
       "</div>\n",
       "<a class=\"carousel-control left\" data-slide=\"prev\" href=\"#welcome-carousel\">‹</a>\n",
       "<a class=\"carousel-control right\" data-slide=\"next\" href=\"#welcome-carousel\">›</a>\n",
       "</div> <!-- welcome-carousel -->\n",
       "<div class=\"text_box\">\n",
       "<h2> Public Information</h2>\n",
       "<div class=\"accordion-inner\">\n",
       "<ul class=\"bulletedUlist\" style=\"margin-top: 10px;\">\n",
       "<li>\n",
       "<a href=\"https://link.enbridge.com/CreditInformation.asp\" target=\"_blank\" title=\"Submit Credit Application\">Submit Credit Application</a>\n",
       "</li>\n",
       "<li>\n",
       "<a href=\"https://link.enbridge.com/Notification/Introduction\" target=\"_blank\" title=\"Email Notification\">Sign Up For Publicly Available Notices</a>\n",
       "</li>\n",
       "<li>\n",
       "<a href=\"https://link.enbridge.com/TariffNotification/tariffemail.asp\" target=\"_blank\">Sign up to Receive Tariff Filings For Our Regulated Facilities</a>\n",
       "</li>\n",
       "<li>\n",
       "<a href='javascript:void(window.open(\"FormsAndTechnical.asp\", \"\", \"width=750,height=500,menubar=0,toolbar=0,screenX=300,screenY=300\"));'>Forms &amp; Technical Requirements </a>\n",
       "</li>\n",
       "<li>\n",
       "<a href=\"http://www.enbridge.com/\" target=\"_blank\">Enbridge Inc.'s Internet Site</a>\n",
       "</li>\n",
       "<li>\n",
       "<a href=\"http://www.enbridge.com/projects-and-infrastructure/projects\" target=\"_blank\">Enbridge Inc.'s Projects</a>\n",
       "</li>\n",
       "<li>\n",
       "<a href=\"https://link.enbridge.com/view/TE_Appalachian_Shale_Supply.pdf\" target=\"_blank\" title=\"TE Appalachian Shale Supply\">TE Appalachian Shale Supply</a>\n",
       "</li>\n",
       "<li>\n",
       "<a href=\"https://link.enbridge.com/view/TE_Appalachian_Shale_Supply_Map.pdf\" target=\"_blank\" title=\"TE Appalachian Shale Supply Map\">TE Appalachian Shale Supply Map</a>\n",
       "</li>\n",
       "</ul>\n",
       "</div>\n",
       "<div class=\"clear_float\"></div>\n",
       "</div>\n",
       "</div> <!-- raw-fluid -->\n",
       "</div><!--col-sm-6 -->\n",
       "</div> <!--container-fluid -->\n",
       "<p class=\"small-vertical-pad\"></p>\n",
       "<div class=\"span12 copyright-footer center\" style=\"text-align: center;\">\n",
       "<div id=\"footer\">\n",
       "<script>\n",
       "\t\t\tcurrentDtTm = new Date();\n",
       "\t\t\tvar cpdate = currentDtTm.getFullYear();\n",
       "\t\t\tdocument.write('<span>&copy;&nbsp;Copyright 1998-'+cpdate +'&nbsp;</span>');\n",
       "\t\t</script>\n",
       "<span><a href=\"http://www.enbridge.com/privacy-statement\" target=\"_blank\">Privacy</a> </span>\n",
       "<span><a href=\"http://www.enbridge.com/termsofuse\" target=\"_blank\">Terms</a> </span>\n",
       "<a href=\"SiteMap.asp\" target=\"_blank\" title=\"Site Map\">Site Map</a>\n",
       "</div>\n",
       "</div>\n",
       "</div> <!--container-fluid screen-padding -->\n",
       "<script>\n",
       "\n",
       "$(document).ready(function () {\n",
       "\t$('.carousel').carousel('cycle');\n",
       "});\n",
       "\n",
       "</script>\n",
       "</body>\n",
       "</html>"
      ]
     },
     "execution_count": 30,
     "metadata": {},
     "output_type": "execute_result"
    }
   ],
   "source": [
    "home_url = \"https://infopost.enbridge.com/InfoPost/\"\n",
    "homepage = requests.get(home_url)\n",
    "soup = BeautifulSoup(homepage.text, \"html.parser\")\n",
    "soup"
   ]
  },
  {
   "cell_type": "code",
   "execution_count": 31,
   "metadata": {},
   "outputs": [
    {
     "data": {
      "text/plain": [
       "[<ul class=\"dropdown-menu select-pipe-dropdown-menu\" id=\"dropdown\">\n",
       " <li><a href=\"AGHome.asp?Pipe=AG\">Algonquin (AGT)</a></li><li><a href=\"BGSHome.asp?Pipe=BGS\">Bobcat Gas Storage (BGS)</a></li><li><a href=\"BIGHome.asp?Pipe=BIG\">BIG Pipeline (BIG)</a></li><li><a href=\"BSPHome.asp?Pipe=BSP\">Big Sandy Pipeline (BSP)</a></li><li><a href=\"EGHome.asp?Pipe=EG\">MHP Egan (EHP)</a></li><li><a href=\"ETHome.asp?Pipe=ET\">East Tennessee (ETNG)</a></li><li><a href=\"GBHome.asp?Pipe=GB\">Garden Banks (GB)</a></li><li><a href=\"GPLHome.asp?Pipe=GPL\">Generation  Pipeline (GPL)</a></li><li><a href=\"MCGPHome.asp?Pipe=MCGP\">Mississippi Canyon (MCGP)</a></li><li><a href=\"MBHome.asp?Pipe=MB\">MHP Moss Bluff (MBHP)</a></li><li><a href=\"MNCAHome.asp?Pipe=MNCA\">Maritimes &amp; Northeast Canada (MNCA)</a></li><li><a href=\"MNUSHome.asp?Pipe=MNUS\">Maritimes &amp; Northeast U.S. (MNUS)</a></li><li><a href=\"MRHome.asp?Pipe=MR\">Manta Ray Offshore Gathering Company (MR)</a></li><li><a href=\"NPCHome.asp?Pipe=NPC\">Nautilus Pipeline Company (NPC)</a></li><li><a href=\"NXCAHome.asp?Pipe=NXCA\">NEXUS ULC (NXCA)</a></li><li><a href=\"NXUSHome.asp?Pipe=NXUS\">NEXUS U.S. (NXUS)</a></li><li><a href=\"SESHHome.asp?Pipe=SESH\">Southeast Supply Header (SESH)</a></li><li><a href=\"SGHome.asp?Pipe=SG\">Saltville (SGSC)</a></li><li><a href=\"SRHome.asp?Pipe=SR\">Steckman Ridge (SR)</a></li><li><a href=\"STTHome.asp?Pipe=STT\">Sabal Trail (STT)</a></li><li><a href=\"TEHome.asp?Pipe=TE\">Texas Eastern (TE)</a></li><li><a href=\"VCPHome.asp?Pipe=VCP\">Valley Crossing Pipeline (VCP)</a></li><li><a href=\"WRGSHome.asp?Pipe=WRGS\">Walker Ridge Gathering System  (WRGS)</a></li>\n",
       " </ul>]"
      ]
     },
     "execution_count": 31,
     "metadata": {},
     "output_type": "execute_result"
    }
   ],
   "source": [
    "dropdown = soup(id=\"dropdown\")\n",
    "dropdown"
   ]
  },
  {
   "cell_type": "code",
   "execution_count": 41,
   "metadata": {},
   "outputs": [
    {
     "data": {
      "text/plain": [
       "<ul class=\"dropdown-menu select-pipe-dropdown-menu\" id=\"dropdown\">\n",
       "<li><a href=\"AGHome.asp?Pipe=AG\">Algonquin (AGT)</a></li><li><a href=\"BGSHome.asp?Pipe=BGS\">Bobcat Gas Storage (BGS)</a></li><li><a href=\"BIGHome.asp?Pipe=BIG\">BIG Pipeline (BIG)</a></li><li><a href=\"BSPHome.asp?Pipe=BSP\">Big Sandy Pipeline (BSP)</a></li><li><a href=\"EGHome.asp?Pipe=EG\">MHP Egan (EHP)</a></li><li><a href=\"ETHome.asp?Pipe=ET\">East Tennessee (ETNG)</a></li><li><a href=\"GBHome.asp?Pipe=GB\">Garden Banks (GB)</a></li><li><a href=\"GPLHome.asp?Pipe=GPL\">Generation  Pipeline (GPL)</a></li><li><a href=\"MCGPHome.asp?Pipe=MCGP\">Mississippi Canyon (MCGP)</a></li><li><a href=\"MBHome.asp?Pipe=MB\">MHP Moss Bluff (MBHP)</a></li><li><a href=\"MNCAHome.asp?Pipe=MNCA\">Maritimes &amp; Northeast Canada (MNCA)</a></li><li><a href=\"MNUSHome.asp?Pipe=MNUS\">Maritimes &amp; Northeast U.S. (MNUS)</a></li><li><a href=\"MRHome.asp?Pipe=MR\">Manta Ray Offshore Gathering Company (MR)</a></li><li><a href=\"NPCHome.asp?Pipe=NPC\">Nautilus Pipeline Company (NPC)</a></li><li><a href=\"NXCAHome.asp?Pipe=NXCA\">NEXUS ULC (NXCA)</a></li><li><a href=\"NXUSHome.asp?Pipe=NXUS\">NEXUS U.S. (NXUS)</a></li><li><a href=\"SESHHome.asp?Pipe=SESH\">Southeast Supply Header (SESH)</a></li><li><a href=\"SGHome.asp?Pipe=SG\">Saltville (SGSC)</a></li><li><a href=\"SRHome.asp?Pipe=SR\">Steckman Ridge (SR)</a></li><li><a href=\"STTHome.asp?Pipe=STT\">Sabal Trail (STT)</a></li><li><a href=\"TEHome.asp?Pipe=TE\">Texas Eastern (TE)</a></li><li><a href=\"VCPHome.asp?Pipe=VCP\">Valley Crossing Pipeline (VCP)</a></li><li><a href=\"WRGSHome.asp?Pipe=WRGS\">Walker Ridge Gathering System  (WRGS)</a></li>\n",
       "</ul>"
      ]
     },
     "execution_count": 41,
     "metadata": {},
     "output_type": "execute_result"
    }
   ],
   "source": [
    "dropdown[0]"
   ]
  },
  {
   "cell_type": "code",
   "execution_count": 32,
   "metadata": {},
   "outputs": [
    {
     "data": {
      "text/plain": [
       "1"
      ]
     },
     "execution_count": 32,
     "metadata": {},
     "output_type": "execute_result"
    }
   ],
   "source": [
    "len(dropdown)"
   ]
  },
  {
   "cell_type": "code",
   "execution_count": 43,
   "metadata": {},
   "outputs": [
    {
     "data": {
      "text/plain": [
       "['sandeep']"
      ]
     },
     "execution_count": 43,
     "metadata": {},
     "output_type": "execute_result"
    }
   ],
   "source": [
    "mylist = [\"sandeep\"]\n",
    "mylist"
   ]
  },
  {
   "cell_type": "code",
   "execution_count": 44,
   "metadata": {},
   "outputs": [
    {
     "ename": "AttributeError",
     "evalue": "'list' object has no attribute 'title'",
     "output_type": "error",
     "traceback": [
      "\u001b[0;31m---------------------------------------------------------------------------\u001b[0m",
      "\u001b[0;31mAttributeError\u001b[0m                            Traceback (most recent call last)",
      "\u001b[0;32m/var/folders/jg/xjfmqdcj0m1bqs1d7sgv9v480000gp/T/ipykernel_38959/1739947371.py\u001b[0m in \u001b[0;36m<module>\u001b[0;34m\u001b[0m\n\u001b[0;32m----> 1\u001b[0;31m \u001b[0mmylist\u001b[0m\u001b[0;34m.\u001b[0m\u001b[0mtitle\u001b[0m\u001b[0;34m(\u001b[0m\u001b[0;34m)\u001b[0m\u001b[0;34m\u001b[0m\u001b[0;34m\u001b[0m\u001b[0m\n\u001b[0m",
      "\u001b[0;31mAttributeError\u001b[0m: 'list' object has no attribute 'title'"
     ]
    }
   ],
   "source": [
    "mylist.title()"
   ]
  },
  {
   "cell_type": "code",
   "execution_count": 46,
   "metadata": {},
   "outputs": [
    {
     "data": {
      "text/plain": [
       "'Sandeep'"
      ]
     },
     "execution_count": 46,
     "metadata": {},
     "output_type": "execute_result"
    }
   ],
   "source": [
    "mylist[0].title()"
   ]
  },
  {
   "cell_type": "code",
   "execution_count": 42,
   "metadata": {},
   "outputs": [
    {
     "data": {
      "text/plain": [
       "[<a href=\"AGHome.asp?Pipe=AG\">Algonquin (AGT)</a>,\n",
       " <a href=\"BGSHome.asp?Pipe=BGS\">Bobcat Gas Storage (BGS)</a>,\n",
       " <a href=\"BIGHome.asp?Pipe=BIG\">BIG Pipeline (BIG)</a>,\n",
       " <a href=\"BSPHome.asp?Pipe=BSP\">Big Sandy Pipeline (BSP)</a>,\n",
       " <a href=\"EGHome.asp?Pipe=EG\">MHP Egan (EHP)</a>,\n",
       " <a href=\"ETHome.asp?Pipe=ET\">East Tennessee (ETNG)</a>,\n",
       " <a href=\"GBHome.asp?Pipe=GB\">Garden Banks (GB)</a>,\n",
       " <a href=\"GPLHome.asp?Pipe=GPL\">Generation  Pipeline (GPL)</a>,\n",
       " <a href=\"MCGPHome.asp?Pipe=MCGP\">Mississippi Canyon (MCGP)</a>,\n",
       " <a href=\"MBHome.asp?Pipe=MB\">MHP Moss Bluff (MBHP)</a>,\n",
       " <a href=\"MNCAHome.asp?Pipe=MNCA\">Maritimes &amp; Northeast Canada (MNCA)</a>,\n",
       " <a href=\"MNUSHome.asp?Pipe=MNUS\">Maritimes &amp; Northeast U.S. (MNUS)</a>,\n",
       " <a href=\"MRHome.asp?Pipe=MR\">Manta Ray Offshore Gathering Company (MR)</a>,\n",
       " <a href=\"NPCHome.asp?Pipe=NPC\">Nautilus Pipeline Company (NPC)</a>,\n",
       " <a href=\"NXCAHome.asp?Pipe=NXCA\">NEXUS ULC (NXCA)</a>,\n",
       " <a href=\"NXUSHome.asp?Pipe=NXUS\">NEXUS U.S. (NXUS)</a>,\n",
       " <a href=\"SESHHome.asp?Pipe=SESH\">Southeast Supply Header (SESH)</a>,\n",
       " <a href=\"SGHome.asp?Pipe=SG\">Saltville (SGSC)</a>,\n",
       " <a href=\"SRHome.asp?Pipe=SR\">Steckman Ridge (SR)</a>,\n",
       " <a href=\"STTHome.asp?Pipe=STT\">Sabal Trail (STT)</a>,\n",
       " <a href=\"TEHome.asp?Pipe=TE\">Texas Eastern (TE)</a>,\n",
       " <a href=\"VCPHome.asp?Pipe=VCP\">Valley Crossing Pipeline (VCP)</a>,\n",
       " <a href=\"WRGSHome.asp?Pipe=WRGS\">Walker Ridge Gathering System  (WRGS)</a>]"
      ]
     },
     "execution_count": 42,
     "metadata": {},
     "output_type": "execute_result"
    }
   ],
   "source": [
    "all_a = dropdown[0].find_all(\"a\")\n",
    "all_a"
   ]
  },
  {
   "cell_type": "code",
   "execution_count": 36,
   "metadata": {},
   "outputs": [
    {
     "data": {
      "text/plain": [
       "['AGHome.asp?Pipe=AG',\n",
       " 'BGSHome.asp?Pipe=BGS',\n",
       " 'BIGHome.asp?Pipe=BIG',\n",
       " 'BSPHome.asp?Pipe=BSP',\n",
       " 'EGHome.asp?Pipe=EG',\n",
       " 'ETHome.asp?Pipe=ET',\n",
       " 'GBHome.asp?Pipe=GB',\n",
       " 'GPLHome.asp?Pipe=GPL',\n",
       " 'MCGPHome.asp?Pipe=MCGP',\n",
       " 'MBHome.asp?Pipe=MB',\n",
       " 'MNCAHome.asp?Pipe=MNCA',\n",
       " 'MNUSHome.asp?Pipe=MNUS',\n",
       " 'MRHome.asp?Pipe=MR',\n",
       " 'NPCHome.asp?Pipe=NPC',\n",
       " 'NXCAHome.asp?Pipe=NXCA',\n",
       " 'NXUSHome.asp?Pipe=NXUS',\n",
       " 'SESHHome.asp?Pipe=SESH',\n",
       " 'SGHome.asp?Pipe=SG',\n",
       " 'SRHome.asp?Pipe=SR',\n",
       " 'STTHome.asp?Pipe=STT',\n",
       " 'TEHome.asp?Pipe=TE',\n",
       " 'VCPHome.asp?Pipe=VCP',\n",
       " 'WRGSHome.asp?Pipe=WRGS']"
      ]
     },
     "execution_count": 36,
     "metadata": {},
     "output_type": "execute_result"
    }
   ],
   "source": [
    "hrefs = [url.get(\"href\") for url in all_a]\n",
    "hrefs"
   ]
  },
  {
   "cell_type": "code",
   "execution_count": 37,
   "metadata": {},
   "outputs": [],
   "source": [
    "import re"
   ]
  },
  {
   "cell_type": "code",
   "execution_count": 38,
   "metadata": {},
   "outputs": [],
   "source": [
    "pat = re.compile(r\"Pipe=(\\w+)\")"
   ]
  },
  {
   "cell_type": "code",
   "execution_count": 39,
   "metadata": {
    "collapsed": true
   },
   "outputs": [
    {
     "data": {
      "text/plain": [
       "['AG',\n",
       " 'BGS',\n",
       " 'BIG',\n",
       " 'BSP',\n",
       " 'EG',\n",
       " 'ET',\n",
       " 'GB',\n",
       " 'GPL',\n",
       " 'MCGP',\n",
       " 'MB',\n",
       " 'MNCA',\n",
       " 'MNUS',\n",
       " 'MR',\n",
       " 'NPC',\n",
       " 'NXCA',\n",
       " 'NXUS',\n",
       " 'SESH',\n",
       " 'SG',\n",
       " 'SR',\n",
       " 'STT',\n",
       " 'TE',\n",
       " 'VCP',\n",
       " 'WRGS']"
      ]
     },
     "execution_count": 39,
     "metadata": {},
     "output_type": "execute_result"
    }
   ],
   "source": [
    "abbrvs = []\n",
    "for item in hrefs:\n",
    "    abbrvs.append(pat.findall(item)[0])\n",
    "    \n",
    "abbrvs"
   ]
  },
  {
   "cell_type": "code",
   "execution_count": 47,
   "metadata": {},
   "outputs": [
    {
     "data": {
      "text/plain": [
       "['AG',\n",
       " 'BGS',\n",
       " 'BIG',\n",
       " 'BSP',\n",
       " 'EG',\n",
       " 'ET',\n",
       " 'GB',\n",
       " 'GPL',\n",
       " 'MCGP',\n",
       " 'MB',\n",
       " 'MNCA',\n",
       " 'MNUS',\n",
       " 'MR',\n",
       " 'NPC',\n",
       " 'NXCA',\n",
       " 'NXUS',\n",
       " 'SESH',\n",
       " 'SG',\n",
       " 'SR',\n",
       " 'STT',\n",
       " 'TE',\n",
       " 'VCP',\n",
       " 'WRGS']"
      ]
     },
     "execution_count": 47,
     "metadata": {},
     "output_type": "execute_result"
    }
   ],
   "source": [
    "abbrvs2 = [pat.findall(item)[0] for item in hrefs]\n",
    "abbrvs2"
   ]
  },
  {
   "cell_type": "code",
   "execution_count": 48,
   "metadata": {},
   "outputs": [
    {
     "data": {
      "text/plain": [
       "['https://infopost.enbridge.com/InfoPost/NoticesList.asp?pipe=AG&type=CRI',\n",
       " 'https://infopost.enbridge.com/InfoPost/NoticesList.asp?pipe=BGS&type=CRI',\n",
       " 'https://infopost.enbridge.com/InfoPost/NoticesList.asp?pipe=BIG&type=CRI',\n",
       " 'https://infopost.enbridge.com/InfoPost/NoticesList.asp?pipe=BSP&type=CRI',\n",
       " 'https://infopost.enbridge.com/InfoPost/NoticesList.asp?pipe=EG&type=CRI',\n",
       " 'https://infopost.enbridge.com/InfoPost/NoticesList.asp?pipe=ET&type=CRI',\n",
       " 'https://infopost.enbridge.com/InfoPost/NoticesList.asp?pipe=GB&type=CRI',\n",
       " 'https://infopost.enbridge.com/InfoPost/NoticesList.asp?pipe=GPL&type=CRI',\n",
       " 'https://infopost.enbridge.com/InfoPost/NoticesList.asp?pipe=MCGP&type=CRI',\n",
       " 'https://infopost.enbridge.com/InfoPost/NoticesList.asp?pipe=MB&type=CRI',\n",
       " 'https://infopost.enbridge.com/InfoPost/NoticesList.asp?pipe=MNCA&type=CRI',\n",
       " 'https://infopost.enbridge.com/InfoPost/NoticesList.asp?pipe=MNUS&type=CRI',\n",
       " 'https://infopost.enbridge.com/InfoPost/NoticesList.asp?pipe=MR&type=CRI',\n",
       " 'https://infopost.enbridge.com/InfoPost/NoticesList.asp?pipe=NPC&type=CRI',\n",
       " 'https://infopost.enbridge.com/InfoPost/NoticesList.asp?pipe=NXCA&type=CRI',\n",
       " 'https://infopost.enbridge.com/InfoPost/NoticesList.asp?pipe=NXUS&type=CRI',\n",
       " 'https://infopost.enbridge.com/InfoPost/NoticesList.asp?pipe=SESH&type=CRI',\n",
       " 'https://infopost.enbridge.com/InfoPost/NoticesList.asp?pipe=SG&type=CRI',\n",
       " 'https://infopost.enbridge.com/InfoPost/NoticesList.asp?pipe=SR&type=CRI',\n",
       " 'https://infopost.enbridge.com/InfoPost/NoticesList.asp?pipe=STT&type=CRI',\n",
       " 'https://infopost.enbridge.com/InfoPost/NoticesList.asp?pipe=TE&type=CRI',\n",
       " 'https://infopost.enbridge.com/InfoPost/NoticesList.asp?pipe=VCP&type=CRI',\n",
       " 'https://infopost.enbridge.com/InfoPost/NoticesList.asp?pipe=WRGS&type=CRI']"
      ]
     },
     "execution_count": 48,
     "metadata": {},
     "output_type": "execute_result"
    }
   ],
   "source": [
    "target_links = [ph_url.format(abbrv) for abbrv in abbrvs]\n",
    "target_links"
   ]
  },
  {
   "cell_type": "code",
   "execution_count": 49,
   "metadata": {},
   "outputs": [],
   "source": [
    "import time\n",
    "from random import randrange"
   ]
  },
  {
   "cell_type": "code",
   "execution_count": 52,
   "metadata": {},
   "outputs": [
    {
     "name": "stdout",
     "output_type": "stream",
     "text": [
      "scraping AG\n",
      "snoozing for 10 seconds\n",
      "scraping BGS\n",
      "snoozing for 14 seconds\n",
      "scraping BIG\n",
      "snoozing for 11 seconds\n",
      "scraping BSP\n",
      "snoozing for 11 seconds\n",
      "scraping EG\n",
      "snoozing for 13 seconds\n",
      "scraping ET\n",
      "snoozing for 11 seconds\n",
      "scraping GB\n",
      "snoozing for 14 seconds\n",
      "scraping GPL\n",
      "snoozing for 12 seconds\n",
      "scraping MCGP\n",
      "snoozing for 14 seconds\n",
      "scraping MB\n",
      "snoozing for 12 seconds\n",
      "scraping MNCA\n",
      "snoozing for 13 seconds\n",
      "scraping MNUS\n",
      "snoozing for 12 seconds\n",
      "scraping MR\n",
      "MR has nothing or is broken!\n",
      "snoozing for 12 seconds\n",
      "scraping NPC\n",
      "snoozing for 13 seconds\n",
      "scraping NXCA\n",
      "snoozing for 13 seconds\n",
      "scraping NXUS\n",
      "snoozing for 14 seconds\n",
      "scraping SESH\n",
      "snoozing for 12 seconds\n",
      "scraping SG\n",
      "snoozing for 12 seconds\n",
      "scraping SR\n",
      "snoozing for 10 seconds\n",
      "scraping STT\n",
      "snoozing for 12 seconds\n",
      "scraping TE\n",
      "snoozing for 11 seconds\n",
      "scraping VCP\n",
      "snoozing for 10 seconds\n",
      "scraping WRGS\n",
      "WRGS has nothing or is broken!\n",
      "snoozing for 13 seconds\n",
      "done scraping\n"
     ]
    }
   ],
   "source": [
    "broken_url = []\n",
    "df_all = []\n",
    "\n",
    "for abbrv in abbrvs:\n",
    "    link = ph_url.format(abbrv)\n",
    "#     print(link)\n",
    "#     print(abbrv)\n",
    "    print(f\"scraping {abbrv}\")\n",
    "    response = requests.get(link)\n",
    "    try:\n",
    "        data = pd.read_html(response.text)\n",
    "        df = data[0].copy()\n",
    "        df[\"unit\"] = abbrv\n",
    "        df_all.append(df)\n",
    "        \n",
    "    except:\n",
    "        print(f\"{abbrv} has nothing or is broken!\")\n",
    "        broken_url.append(link)\n",
    "    finally:\n",
    "        snooze = randrange(10,15)\n",
    "        print(f\"snoozing for {snooze} seconds\")\n",
    "        time.sleep(snooze)\n",
    "        \n",
    "print(\"done scraping\")   "
   ]
  },
  {
   "cell_type": "code",
   "execution_count": 61,
   "metadata": {},
   "outputs": [],
   "source": [
    "def combine_tables(list_name, file_name):\n",
    "    '''\n",
    "    takes list of dfs, combines into single csv\n",
    "    requires csv filename as string\n",
    "    '''\n",
    "    df = pd.concat(list_name)\n",
    "    df.reset_index(inplace = True)\n",
    "    df.to_csv(file_name, encoding = \"UTF-8\", index = False)\n",
    "    return df"
   ]
  },
  {
   "cell_type": "code",
   "execution_count": 59,
   "metadata": {},
   "outputs": [
    {
     "data": {
      "text/html": [
       "<div>\n",
       "<style scoped>\n",
       "    .dataframe tbody tr th:only-of-type {\n",
       "        vertical-align: middle;\n",
       "    }\n",
       "\n",
       "    .dataframe tbody tr th {\n",
       "        vertical-align: top;\n",
       "    }\n",
       "\n",
       "    .dataframe thead th {\n",
       "        text-align: right;\n",
       "    }\n",
       "</style>\n",
       "<table border=\"1\" class=\"dataframe\">\n",
       "  <thead>\n",
       "    <tr style=\"text-align: right;\">\n",
       "      <th></th>\n",
       "      <th>index</th>\n",
       "      <th>Notice Type</th>\n",
       "      <th>Posted Date/Time</th>\n",
       "      <th>Notice Effective Date/Time</th>\n",
       "      <th>Notice End Date/Time</th>\n",
       "      <th>Notice Identifier</th>\n",
       "      <th>Subject</th>\n",
       "      <th>Response Date/Time</th>\n",
       "      <th>unit</th>\n",
       "    </tr>\n",
       "  </thead>\n",
       "  <tbody>\n",
       "    <tr>\n",
       "      <th>0</th>\n",
       "      <td>0</td>\n",
       "      <td>Operational Flow Order</td>\n",
       "      <td>11/01/2022 07:14:13 AM</td>\n",
       "      <td>11/01/2022 09:00:00 AM</td>\n",
       "      <td>01/30/2023 09:00:00 AM</td>\n",
       "      <td>126922</td>\n",
       "      <td>AGT Operational Flow Order -- LIFTED</td>\n",
       "      <td>NaN</td>\n",
       "      <td>AG</td>\n",
       "    </tr>\n",
       "    <tr>\n",
       "      <th>1</th>\n",
       "      <td>1</td>\n",
       "      <td>Capacity Constraint</td>\n",
       "      <td>10/31/2022 03:40:00 PM</td>\n",
       "      <td>11/01/2022 09:00:00 AM</td>\n",
       "      <td>11/02/2022 09:00:00 AM</td>\n",
       "      <td>126903</td>\n",
       "      <td>AGT Pipeline Conditions for 11/1/2022</td>\n",
       "      <td>NaN</td>\n",
       "      <td>AG</td>\n",
       "    </tr>\n",
       "    <tr>\n",
       "      <th>2</th>\n",
       "      <td>2</td>\n",
       "      <td>Capacity Constraint</td>\n",
       "      <td>10/30/2022 03:03:04 PM</td>\n",
       "      <td>10/31/2022 09:00:00 AM</td>\n",
       "      <td>11/01/2022 09:00:00 AM</td>\n",
       "      <td>126863</td>\n",
       "      <td>AGT Pipeline Conditions for 10/31/2022</td>\n",
       "      <td>NaN</td>\n",
       "      <td>AG</td>\n",
       "    </tr>\n",
       "    <tr>\n",
       "      <th>3</th>\n",
       "      <td>3</td>\n",
       "      <td>Capacity Constraint</td>\n",
       "      <td>10/29/2022 03:13:39 PM</td>\n",
       "      <td>10/30/2022 09:00:00 AM</td>\n",
       "      <td>10/31/2022 09:00:00 AM</td>\n",
       "      <td>126840</td>\n",
       "      <td>AGT Pipeline Conditions for 10/30/2022</td>\n",
       "      <td>NaN</td>\n",
       "      <td>AG</td>\n",
       "    </tr>\n",
       "    <tr>\n",
       "      <th>4</th>\n",
       "      <td>4</td>\n",
       "      <td>Capacity Constraint</td>\n",
       "      <td>10/28/2022 03:02:00 PM</td>\n",
       "      <td>10/29/2022 09:00:00 AM</td>\n",
       "      <td>10/30/2022 09:00:00 AM</td>\n",
       "      <td>126787</td>\n",
       "      <td>AGT Pipeline Conditions for 10/29//2022</td>\n",
       "      <td>NaN</td>\n",
       "      <td>AG</td>\n",
       "    </tr>\n",
       "    <tr>\n",
       "      <th>...</th>\n",
       "      <td>...</td>\n",
       "      <td>...</td>\n",
       "      <td>...</td>\n",
       "      <td>...</td>\n",
       "      <td>...</td>\n",
       "      <td>...</td>\n",
       "      <td>...</td>\n",
       "      <td>...</td>\n",
       "      <td>...</td>\n",
       "    </tr>\n",
       "    <tr>\n",
       "      <th>988</th>\n",
       "      <td>22</td>\n",
       "      <td>Computer System Status</td>\n",
       "      <td>09/01/2022 08:45:25 AM</td>\n",
       "      <td>09/01/2022 08:45:25 AM</td>\n",
       "      <td>11/30/2022 08:45:25 AM</td>\n",
       "      <td>124570</td>\n",
       "      <td>Application Maintenance on September 14</td>\n",
       "      <td>NaN</td>\n",
       "      <td>VCP</td>\n",
       "    </tr>\n",
       "    <tr>\n",
       "      <th>989</th>\n",
       "      <td>23</td>\n",
       "      <td>Computer System Status</td>\n",
       "      <td>08/23/2022 08:25:51 AM</td>\n",
       "      <td>08/23/2022 08:25:51 AM</td>\n",
       "      <td>11/21/2022 08:25:51 AM</td>\n",
       "      <td>124231</td>\n",
       "      <td>Implementation of Texas Railroad Commission Cu...</td>\n",
       "      <td>NaN</td>\n",
       "      <td>VCP</td>\n",
       "    </tr>\n",
       "    <tr>\n",
       "      <th>990</th>\n",
       "      <td>24</td>\n",
       "      <td>Computer System Status</td>\n",
       "      <td>08/18/2022 07:14:34 AM</td>\n",
       "      <td>08/18/2022 07:14:34 AM</td>\n",
       "      <td>11/16/2022 07:14:34 AM</td>\n",
       "      <td>124075</td>\n",
       "      <td>LINK System Maintenance the weekend of Septemb...</td>\n",
       "      <td>NaN</td>\n",
       "      <td>VCP</td>\n",
       "    </tr>\n",
       "    <tr>\n",
       "      <th>991</th>\n",
       "      <td>25</td>\n",
       "      <td>Force Majeure</td>\n",
       "      <td>08/08/2022 07:03:10 AM</td>\n",
       "      <td>08/08/2022 07:03:10 AM</td>\n",
       "      <td>11/06/2022 07:03:10 AM</td>\n",
       "      <td>123686</td>\n",
       "      <td>Brownsville Compressor Station Force Majeure -...</td>\n",
       "      <td>NaN</td>\n",
       "      <td>VCP</td>\n",
       "    </tr>\n",
       "    <tr>\n",
       "      <th>992</th>\n",
       "      <td>26</td>\n",
       "      <td>Force Majeure</td>\n",
       "      <td>08/04/2022 10:24:28 AM</td>\n",
       "      <td>08/04/2022 10:24:28 AM</td>\n",
       "      <td>11/02/2022 10:24:28 AM</td>\n",
       "      <td>123569</td>\n",
       "      <td>Brownsville Compressor Station Force Majeure</td>\n",
       "      <td>NaN</td>\n",
       "      <td>VCP</td>\n",
       "    </tr>\n",
       "  </tbody>\n",
       "</table>\n",
       "<p>993 rows × 9 columns</p>\n",
       "</div>"
      ],
      "text/plain": [
       "     index             Notice Type        Posted Date/Time  \\\n",
       "0        0  Operational Flow Order  11/01/2022 07:14:13 AM   \n",
       "1        1     Capacity Constraint  10/31/2022 03:40:00 PM   \n",
       "2        2     Capacity Constraint  10/30/2022 03:03:04 PM   \n",
       "3        3     Capacity Constraint  10/29/2022 03:13:39 PM   \n",
       "4        4     Capacity Constraint  10/28/2022 03:02:00 PM   \n",
       "..     ...                     ...                     ...   \n",
       "988     22  Computer System Status  09/01/2022 08:45:25 AM   \n",
       "989     23  Computer System Status  08/23/2022 08:25:51 AM   \n",
       "990     24  Computer System Status  08/18/2022 07:14:34 AM   \n",
       "991     25           Force Majeure  08/08/2022 07:03:10 AM   \n",
       "992     26           Force Majeure  08/04/2022 10:24:28 AM   \n",
       "\n",
       "    Notice Effective Date/Time    Notice End Date/Time  Notice Identifier  \\\n",
       "0       11/01/2022 09:00:00 AM  01/30/2023 09:00:00 AM             126922   \n",
       "1       11/01/2022 09:00:00 AM  11/02/2022 09:00:00 AM             126903   \n",
       "2       10/31/2022 09:00:00 AM  11/01/2022 09:00:00 AM             126863   \n",
       "3       10/30/2022 09:00:00 AM  10/31/2022 09:00:00 AM             126840   \n",
       "4       10/29/2022 09:00:00 AM  10/30/2022 09:00:00 AM             126787   \n",
       "..                         ...                     ...                ...   \n",
       "988     09/01/2022 08:45:25 AM  11/30/2022 08:45:25 AM             124570   \n",
       "989     08/23/2022 08:25:51 AM  11/21/2022 08:25:51 AM             124231   \n",
       "990     08/18/2022 07:14:34 AM  11/16/2022 07:14:34 AM             124075   \n",
       "991     08/08/2022 07:03:10 AM  11/06/2022 07:03:10 AM             123686   \n",
       "992     08/04/2022 10:24:28 AM  11/02/2022 10:24:28 AM             123569   \n",
       "\n",
       "                                               Subject  Response Date/Time  \\\n",
       "0                 AGT Operational Flow Order -- LIFTED                 NaN   \n",
       "1                AGT Pipeline Conditions for 11/1/2022                 NaN   \n",
       "2               AGT Pipeline Conditions for 10/31/2022                 NaN   \n",
       "3               AGT Pipeline Conditions for 10/30/2022                 NaN   \n",
       "4              AGT Pipeline Conditions for 10/29//2022                 NaN   \n",
       "..                                                 ...                 ...   \n",
       "988            Application Maintenance on September 14                 NaN   \n",
       "989  Implementation of Texas Railroad Commission Cu...                 NaN   \n",
       "990  LINK System Maintenance the weekend of Septemb...                 NaN   \n",
       "991  Brownsville Compressor Station Force Majeure -...                 NaN   \n",
       "992       Brownsville Compressor Station Force Majeure                 NaN   \n",
       "\n",
       "    unit  \n",
       "0     AG  \n",
       "1     AG  \n",
       "2     AG  \n",
       "3     AG  \n",
       "4     AG  \n",
       "..   ...  \n",
       "988  VCP  \n",
       "989  VCP  \n",
       "990  VCP  \n",
       "991  VCP  \n",
       "992  VCP  \n",
       "\n",
       "[993 rows x 9 columns]"
      ]
     },
     "execution_count": 59,
     "metadata": {},
     "output_type": "execute_result"
    }
   ],
   "source": [
    "df = combine_tables(df_all, \"energy_critical.csv\")\n",
    "df"
   ]
  },
  {
   "cell_type": "code",
   "execution_count": null,
   "metadata": {},
   "outputs": [],
   "source": []
  }
 ],
 "metadata": {
  "colab": {
   "collapsed_sections": [],
   "provenance": []
  },
  "kernelspec": {
   "display_name": "Python 3 (ipykernel)",
   "language": "python",
   "name": "python3"
  },
  "language_info": {
   "codemirror_mode": {
    "name": "ipython",
    "version": 3
   },
   "file_extension": ".py",
   "mimetype": "text/x-python",
   "name": "python",
   "nbconvert_exporter": "python",
   "pygments_lexer": "ipython3",
   "version": "3.9.7"
  }
 },
 "nbformat": 4,
 "nbformat_minor": 1
}
