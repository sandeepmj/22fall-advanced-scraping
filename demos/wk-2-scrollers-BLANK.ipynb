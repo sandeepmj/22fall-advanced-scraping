{
 "cells": [
  {
   "cell_type": "markdown",
   "id": "cb6d7af4",
   "metadata": {
    "id": "cb6d7af4"
   },
   "source": [
    "## Scraping scrollers\n",
    "\n",
    "Infinite scroll sites are designed for the mobile age. Links are hard to tap with a finger on a small device,  but a simple swipe easily scrolls the page down to reveal more data. That can make scraping an infinite scroll page difficult. We’ll learn to find the actual location of the data buried in the scrolls.\n",
    "\n",
    "Here's a couple of examples of a scrolling sites: \n",
    "\n",
    "- <a href=\"https://www.difc.ae/public-register/\">DIFC Public Register</a>\n",
    "\n",
    "- <a href=\"https://www.quintoandar.com.br/alugar/imovel/sao-paulo-sp-brasil\">Rentals in São Paulo</a>\n",
    "\n",
    "Let's target the data source we'll need to scrape this <a href=\"https://quotes.toscrape.com/scroll\">mockup site</a>.\n",
    "\n",
    "\n",
    "\n",
    "\n",
    "\n"
   ]
  },
  {
   "cell_type": "code",
   "execution_count": null,
   "id": "a17111ee",
   "metadata": {
    "id": "a17111ee"
   },
   "outputs": [],
   "source": [
    "## Lets import all the libaries we are likely to need\n",
    "import requests ## to capture content from web pages\n",
    "from bs4 import BeautifulSoup ## to parse our scraped data\n",
    "import pandas as pd ## to easily export our data to dataframes/CSVs\n",
    "# from icecream import ic ## easily debug\n",
    "# from pprint import pprint as pp ## to prettify our printouts\n",
    "import itertools ## to flatten lists\n",
    "from random import randrange ## to create a range of numbers\n",
    "import time # for timer\n",
    "import json ## to work with JSON data"
   ]
  },
  {
   "cell_type": "markdown",
   "id": "11ac7588",
   "metadata": {
    "id": "11ac7588"
   },
   "source": [
    "### Figure out how to scape a single page"
   ]
  },
  {
   "cell_type": "code",
   "execution_count": null,
   "id": "98d1cc6c",
   "metadata": {
    "id": "98d1cc6c"
   },
   "outputs": [],
   "source": []
  },
  {
   "cell_type": "markdown",
   "id": "acc11b4e",
   "metadata": {},
   "source": [
    "### Accessing values in a dictionary"
   ]
  },
  {
   "cell_type": "code",
   "execution_count": 1,
   "id": "23af0382",
   "metadata": {},
   "outputs": [],
   "source": [
    "## run this cell\n",
    "animals = [{\"rank\": 1, 'animal': 'Blue whale', 'weight': 136000, 'animal_type': 'Marine'},\n",
    " {\"rank\": 2, 'animal': 'Bowhead whale', 'weight': 100000, 'animal_type': 'Marine'},\n",
    " {\"rank\": 3, 'animal': 'Fin whale', 'weight': 70000, 'animal_type': 'Marine'},\n",
    " {\"rank\": 4, 'animal': 'Southern right whale', 'weight': 45000, 'animal_type': 'Marine'},\n",
    " {\"rank\": 5, 'animal': 'Humpback whale', 'weight': 30000, 'animal_type': 'Marine'},\n",
    " {\"rank\": 6, 'animal': 'Gray whale', 'weight': 28500, 'animal_type': 'Marine'},\n",
    " {\"rank\": 7, 'animal': 'Northern right whale', 'weight': 23000, 'animal_type': 'Marine'},\n",
    " {\"rank\": 8, 'animal': 'Sei whale', 'weight': 20000, 'animal_type': 'Marine'},\n",
    " {\"rank\": 9, 'animal': \"Bryde's whale\", 'weight': 16000, 'animal_type': 'Marine'},\n",
    " {\"rank\": 10,'animal': \"Baird's beaked whale\", 'weight': 11380, 'animal_type': 'Marine'}]"
   ]
  },
  {
   "cell_type": "code",
   "execution_count": null,
   "id": "8954dd09",
   "metadata": {},
   "outputs": [],
   "source": []
  }
 ],
 "metadata": {
  "colab": {
   "collapsed_sections": [],
   "provenance": []
  },
  "kernelspec": {
   "display_name": "Python 3 (ipykernel)",
   "language": "python",
   "name": "python3"
  },
  "language_info": {
   "codemirror_mode": {
    "name": "ipython",
    "version": 3
   },
   "file_extension": ".py",
   "mimetype": "text/x-python",
   "name": "python",
   "nbconvert_exporter": "python",
   "pygments_lexer": "ipython3",
   "version": "3.9.7"
  }
 },
 "nbformat": 4,
 "nbformat_minor": 5
}
