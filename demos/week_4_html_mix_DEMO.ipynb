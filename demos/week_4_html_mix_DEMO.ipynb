{
 "cells": [
  {
   "cell_type": "code",
   "execution_count": 4,
   "metadata": {
    "id": "QC4xhAo8Jcio"
   },
   "outputs": [],
   "source": [
    "## Build a dataframe with the following lists\n",
    "\n",
    "claims = [1, 2, 3, 4, 5]\n",
    "dates = [\n",
    "    \"<b class='table-label'>Filed Date</b><span class='table-content'>10/17/2019</span>\",\n",
    "    \"<b class='table-label'>Filed Date</b><span class='table-content'>11/10/2019</span>\",\n",
    "    \"<b class='table-label'>Filed Date</b><span class='table-content'>11/12/2019</span>\", \n",
    "    \"<b class='table-label'>Filed Date</b><span class='table-content'>12/07/2019</span>\", \n",
    "    \"<b class='table-label'>Filed Date</b><span class='table-content'>12/27/2019</span>\" \n",
    "]\n",
    "totals = [\n",
    "    \"<b class='table-label'>Claim Value</b><span class='table-content'>$10.00</span>\",\n",
    "    \"<b class='table-label'>Claim Value</b><span class='table-content'>$20.00</span>\",\n",
    "    \"<b class='table-label'>Claim Value</b><span class='table-content'>$30.00</span>\",\n",
    "    \"<b class='table-label'>Claim Value</b><span class='table-content'>$40.00</span>\",\n",
    "    \"<b class='table-label'>Claim Value</b><span class='table-content'>$50.00</span>\"    \n",
    "]"
   ]
  },
  {
   "cell_type": "code",
   "execution_count": 5,
   "metadata": {
    "id": "U5Mkee8fNIxj"
   },
   "outputs": [],
   "source": [
    "## import libraries\n",
    "import pandas as pd\n",
    "from bs4 import BeautifulSoup"
   ]
  },
  {
   "cell_type": "code",
   "execution_count": 6,
   "metadata": {
    "colab": {
     "base_uri": "https://localhost:8080/",
     "height": 206
    },
    "id": "PsPFLVt4OfRy",
    "outputId": "f63932cb-2762-4326-ef34-62466ded25f6"
   },
   "outputs": [
    {
     "data": {
      "text/html": [
       "<div>\n",
       "<style scoped>\n",
       "    .dataframe tbody tr th:only-of-type {\n",
       "        vertical-align: middle;\n",
       "    }\n",
       "\n",
       "    .dataframe tbody tr th {\n",
       "        vertical-align: top;\n",
       "    }\n",
       "\n",
       "    .dataframe thead th {\n",
       "        text-align: right;\n",
       "    }\n",
       "</style>\n",
       "<table border=\"1\" class=\"dataframe\">\n",
       "  <thead>\n",
       "    <tr style=\"text-align: right;\">\n",
       "      <th></th>\n",
       "      <th>Claims</th>\n",
       "      <th>Dates</th>\n",
       "      <th>Totals</th>\n",
       "    </tr>\n",
       "  </thead>\n",
       "  <tbody>\n",
       "    <tr>\n",
       "      <th>0</th>\n",
       "      <td>1</td>\n",
       "      <td>&lt;b class='table-label'&gt;Filed Date&lt;/b&gt;&lt;span cla...</td>\n",
       "      <td>&lt;b class='table-label'&gt;Claim Value&lt;/b&gt;&lt;span cl...</td>\n",
       "    </tr>\n",
       "    <tr>\n",
       "      <th>1</th>\n",
       "      <td>2</td>\n",
       "      <td>&lt;b class='table-label'&gt;Filed Date&lt;/b&gt;&lt;span cla...</td>\n",
       "      <td>&lt;b class='table-label'&gt;Claim Value&lt;/b&gt;&lt;span cl...</td>\n",
       "    </tr>\n",
       "    <tr>\n",
       "      <th>2</th>\n",
       "      <td>3</td>\n",
       "      <td>&lt;b class='table-label'&gt;Filed Date&lt;/b&gt;&lt;span cla...</td>\n",
       "      <td>&lt;b class='table-label'&gt;Claim Value&lt;/b&gt;&lt;span cl...</td>\n",
       "    </tr>\n",
       "    <tr>\n",
       "      <th>3</th>\n",
       "      <td>4</td>\n",
       "      <td>&lt;b class='table-label'&gt;Filed Date&lt;/b&gt;&lt;span cla...</td>\n",
       "      <td>&lt;b class='table-label'&gt;Claim Value&lt;/b&gt;&lt;span cl...</td>\n",
       "    </tr>\n",
       "    <tr>\n",
       "      <th>4</th>\n",
       "      <td>5</td>\n",
       "      <td>&lt;b class='table-label'&gt;Filed Date&lt;/b&gt;&lt;span cla...</td>\n",
       "      <td>&lt;b class='table-label'&gt;Claim Value&lt;/b&gt;&lt;span cl...</td>\n",
       "    </tr>\n",
       "  </tbody>\n",
       "</table>\n",
       "</div>"
      ],
      "text/plain": [
       "   Claims                                              Dates  \\\n",
       "0       1  <b class='table-label'>Filed Date</b><span cla...   \n",
       "1       2  <b class='table-label'>Filed Date</b><span cla...   \n",
       "2       3  <b class='table-label'>Filed Date</b><span cla...   \n",
       "3       4  <b class='table-label'>Filed Date</b><span cla...   \n",
       "4       5  <b class='table-label'>Filed Date</b><span cla...   \n",
       "\n",
       "                                              Totals  \n",
       "0  <b class='table-label'>Claim Value</b><span cl...  \n",
       "1  <b class='table-label'>Claim Value</b><span cl...  \n",
       "2  <b class='table-label'>Claim Value</b><span cl...  \n",
       "3  <b class='table-label'>Claim Value</b><span cl...  \n",
       "4  <b class='table-label'>Claim Value</b><span cl...  "
      ]
     },
     "execution_count": 6,
     "metadata": {},
     "output_type": "execute_result"
    }
   ],
   "source": [
    "df = pd.DataFrame(zip(claims, dates, totals),\n",
    "                   columns = [\"Claims\", \"Dates\", \"Totals\"])\n",
    "df"
   ]
  },
  {
   "cell_type": "code",
   "execution_count": 7,
   "metadata": {
    "id": "6OPLgnuLNb4r"
   },
   "outputs": [],
   "source": [
    "## function to strip_html using BeautifulSoup\n",
    "def strip_html(target):\n",
    "  target = str(target)\n",
    "  soup = BeautifulSoup(target, \"html.parser\")\n",
    "  return (soup.find(\"span\", class_=\"table-content\").get_text()) ## we're luckly that all columns follow the same pattern"
   ]
  },
  {
   "cell_type": "markdown",
   "metadata": {
    "id": "z46F3Tb6Ietn"
   },
   "source": [
    "### Method 1 - multi-steps"
   ]
  },
  {
   "cell_type": "code",
   "execution_count": 14,
   "metadata": {
    "colab": {
     "base_uri": "https://localhost:8080/",
     "height": 206
    },
    "id": "VjqM-VKiM0Kj",
    "outputId": "a61fd115-2ed6-43da-f38f-36ad1cb20fe5"
   },
   "outputs": [
    {
     "data": {
      "text/html": [
       "<div>\n",
       "<style scoped>\n",
       "    .dataframe tbody tr th:only-of-type {\n",
       "        vertical-align: middle;\n",
       "    }\n",
       "\n",
       "    .dataframe tbody tr th {\n",
       "        vertical-align: top;\n",
       "    }\n",
       "\n",
       "    .dataframe thead th {\n",
       "        text-align: right;\n",
       "    }\n",
       "</style>\n",
       "<table border=\"1\" class=\"dataframe\">\n",
       "  <thead>\n",
       "    <tr style=\"text-align: right;\">\n",
       "      <th></th>\n",
       "      <th>Claims</th>\n",
       "      <th>Dates</th>\n",
       "      <th>Totals</th>\n",
       "    </tr>\n",
       "  </thead>\n",
       "  <tbody>\n",
       "    <tr>\n",
       "      <th>0</th>\n",
       "      <td>1</td>\n",
       "      <td>&lt;b class='table-label'&gt;Filed Date&lt;/b&gt;&lt;span cla...</td>\n",
       "      <td>&lt;b class='table-label'&gt;Claim Value&lt;/b&gt;&lt;span cl...</td>\n",
       "    </tr>\n",
       "    <tr>\n",
       "      <th>1</th>\n",
       "      <td>2</td>\n",
       "      <td>&lt;b class='table-label'&gt;Filed Date&lt;/b&gt;&lt;span cla...</td>\n",
       "      <td>&lt;b class='table-label'&gt;Claim Value&lt;/b&gt;&lt;span cl...</td>\n",
       "    </tr>\n",
       "    <tr>\n",
       "      <th>2</th>\n",
       "      <td>3</td>\n",
       "      <td>&lt;b class='table-label'&gt;Filed Date&lt;/b&gt;&lt;span cla...</td>\n",
       "      <td>&lt;b class='table-label'&gt;Claim Value&lt;/b&gt;&lt;span cl...</td>\n",
       "    </tr>\n",
       "    <tr>\n",
       "      <th>3</th>\n",
       "      <td>4</td>\n",
       "      <td>&lt;b class='table-label'&gt;Filed Date&lt;/b&gt;&lt;span cla...</td>\n",
       "      <td>&lt;b class='table-label'&gt;Claim Value&lt;/b&gt;&lt;span cl...</td>\n",
       "    </tr>\n",
       "    <tr>\n",
       "      <th>4</th>\n",
       "      <td>5</td>\n",
       "      <td>&lt;b class='table-label'&gt;Filed Date&lt;/b&gt;&lt;span cla...</td>\n",
       "      <td>&lt;b class='table-label'&gt;Claim Value&lt;/b&gt;&lt;span cl...</td>\n",
       "    </tr>\n",
       "  </tbody>\n",
       "</table>\n",
       "</div>"
      ],
      "text/plain": [
       "   Claims                                              Dates  \\\n",
       "0       1  <b class='table-label'>Filed Date</b><span cla...   \n",
       "1       2  <b class='table-label'>Filed Date</b><span cla...   \n",
       "2       3  <b class='table-label'>Filed Date</b><span cla...   \n",
       "3       4  <b class='table-label'>Filed Date</b><span cla...   \n",
       "4       5  <b class='table-label'>Filed Date</b><span cla...   \n",
       "\n",
       "                                              Totals  \n",
       "0  <b class='table-label'>Claim Value</b><span cl...  \n",
       "1  <b class='table-label'>Claim Value</b><span cl...  \n",
       "2  <b class='table-label'>Claim Value</b><span cl...  \n",
       "3  <b class='table-label'>Claim Value</b><span cl...  \n",
       "4  <b class='table-label'>Claim Value</b><span cl...  "
      ]
     },
     "execution_count": 14,
     "metadata": {},
     "output_type": "execute_result"
    }
   ],
   "source": [
    " ## build the dataframe\n",
    "df1 = pd.DataFrame(zip(claims, dates, totals),\n",
    "                   columns = [\"Claims\", \"Dates\", \"Totals\"])\n",
    "df1\n"
   ]
  },
  {
   "cell_type": "code",
   "execution_count": 10,
   "metadata": {
    "id": "SVq8oYIyN_ul"
   },
   "outputs": [],
   "source": [
    "## columns we need to target\n",
    "## we don't need the \"Claims\" column\n",
    "target_columns = [\"Dates\", \"Totals\"]\n"
   ]
  },
  {
   "cell_type": "code",
   "execution_count": 11,
   "metadata": {
    "colab": {
     "base_uri": "https://localhost:8080/"
    },
    "id": "sTS3LFPxDTn_",
    "outputId": "4a726ecb-e1c0-464b-b9b3-314fef6d74cf"
   },
   "outputs": [
    {
     "name": "stdout",
     "output_type": "stream",
     "text": [
      "<B CLASS='TABLE-LABEL'>FILED DATE</B><SPAN CLASS='TABLE-CONTENT'>10/17/2019</SPAN>\n",
      "<B CLASS='TABLE-LABEL'>FILED DATE</B><SPAN CLASS='TABLE-CONTENT'>11/10/2019</SPAN>\n",
      "<B CLASS='TABLE-LABEL'>FILED DATE</B><SPAN CLASS='TABLE-CONTENT'>11/12/2019</SPAN>\n",
      "<B CLASS='TABLE-LABEL'>FILED DATE</B><SPAN CLASS='TABLE-CONTENT'>12/07/2019</SPAN>\n",
      "<B CLASS='TABLE-LABEL'>FILED DATE</B><SPAN CLASS='TABLE-CONTENT'>12/27/2019</SPAN>\n",
      "<B CLASS='TABLE-LABEL'>CLAIM VALUE</B><SPAN CLASS='TABLE-CONTENT'>$10.00</SPAN>\n",
      "<B CLASS='TABLE-LABEL'>CLAIM VALUE</B><SPAN CLASS='TABLE-CONTENT'>$20.00</SPAN>\n",
      "<B CLASS='TABLE-LABEL'>CLAIM VALUE</B><SPAN CLASS='TABLE-CONTENT'>$30.00</SPAN>\n",
      "<B CLASS='TABLE-LABEL'>CLAIM VALUE</B><SPAN CLASS='TABLE-CONTENT'>$40.00</SPAN>\n",
      "<B CLASS='TABLE-LABEL'>CLAIM VALUE</B><SPAN CLASS='TABLE-CONTENT'>$50.00</SPAN>\n"
     ]
    }
   ],
   "source": [
    "## for loop through to strip html\n",
    "for target in target_columns: \n",
    "  df1[target].apply(lambda x: print(x.upper()))\n",
    "  # print(df1[\"current\"])\n",
    "# df1"
   ]
  },
  {
   "cell_type": "code",
   "execution_count": 15,
   "metadata": {
    "colab": {
     "base_uri": "https://localhost:8080/",
     "height": 420
    },
    "id": "d8vs1qt8N_7T",
    "outputId": "98e34402-0c78-43a7-b55f-67262e3e36df"
   },
   "outputs": [
    {
     "data": {
      "text/html": [
       "<div>\n",
       "<style scoped>\n",
       "    .dataframe tbody tr th:only-of-type {\n",
       "        vertical-align: middle;\n",
       "    }\n",
       "\n",
       "    .dataframe tbody tr th {\n",
       "        vertical-align: top;\n",
       "    }\n",
       "\n",
       "    .dataframe thead th {\n",
       "        text-align: right;\n",
       "    }\n",
       "</style>\n",
       "<table border=\"1\" class=\"dataframe\">\n",
       "  <thead>\n",
       "    <tr style=\"text-align: right;\">\n",
       "      <th></th>\n",
       "      <th>Claims</th>\n",
       "      <th>Dates</th>\n",
       "      <th>Totals</th>\n",
       "    </tr>\n",
       "  </thead>\n",
       "  <tbody>\n",
       "    <tr>\n",
       "      <th>0</th>\n",
       "      <td>1</td>\n",
       "      <td>10/17/2019</td>\n",
       "      <td>$10.00</td>\n",
       "    </tr>\n",
       "    <tr>\n",
       "      <th>1</th>\n",
       "      <td>2</td>\n",
       "      <td>11/10/2019</td>\n",
       "      <td>$20.00</td>\n",
       "    </tr>\n",
       "    <tr>\n",
       "      <th>2</th>\n",
       "      <td>3</td>\n",
       "      <td>11/12/2019</td>\n",
       "      <td>$30.00</td>\n",
       "    </tr>\n",
       "    <tr>\n",
       "      <th>3</th>\n",
       "      <td>4</td>\n",
       "      <td>12/07/2019</td>\n",
       "      <td>$40.00</td>\n",
       "    </tr>\n",
       "    <tr>\n",
       "      <th>4</th>\n",
       "      <td>5</td>\n",
       "      <td>12/27/2019</td>\n",
       "      <td>$50.00</td>\n",
       "    </tr>\n",
       "  </tbody>\n",
       "</table>\n",
       "</div>"
      ],
      "text/plain": [
       "   Claims       Dates  Totals\n",
       "0       1  10/17/2019  $10.00\n",
       "1       2  11/10/2019  $20.00\n",
       "2       3  11/12/2019  $30.00\n",
       "3       4  12/07/2019  $40.00\n",
       "4       5  12/27/2019  $50.00"
      ]
     },
     "execution_count": 15,
     "metadata": {},
     "output_type": "execute_result"
    }
   ],
   "source": [
    "## for loop through to strip html\n",
    "for target in target_columns: \n",
    "  df1[target] = df1[target].apply(lambda x: strip_html(x))\n",
    "#   print(df1[target])\n",
    "df1\n"
   ]
  },
  {
   "cell_type": "markdown",
   "metadata": {
    "id": "bQsBne50I3XN"
   },
   "source": [
    "## Method 2 - One step but less clear?"
   ]
  },
  {
   "cell_type": "code",
   "execution_count": null,
   "metadata": {
    "colab": {
     "base_uri": "https://localhost:8080/",
     "height": 203
    },
    "id": "tgmHMbCFO_Gf",
    "outputId": "d85779a4-1fb1-4348-d6d8-608ad185a098"
   },
   "outputs": [
    {
     "data": {
      "text/html": [
       "<div>\n",
       "<style scoped>\n",
       "    .dataframe tbody tr th:only-of-type {\n",
       "        vertical-align: middle;\n",
       "    }\n",
       "\n",
       "    .dataframe tbody tr th {\n",
       "        vertical-align: top;\n",
       "    }\n",
       "\n",
       "    .dataframe thead th {\n",
       "        text-align: right;\n",
       "    }\n",
       "</style>\n",
       "<table border=\"1\" class=\"dataframe\">\n",
       "  <thead>\n",
       "    <tr style=\"text-align: right;\">\n",
       "      <th></th>\n",
       "      <th>claims</th>\n",
       "      <th>dates</th>\n",
       "      <th>totals</th>\n",
       "    </tr>\n",
       "  </thead>\n",
       "  <tbody>\n",
       "    <tr>\n",
       "      <th>0</th>\n",
       "      <td>1</td>\n",
       "      <td>10/17/2019</td>\n",
       "      <td>$10.00</td>\n",
       "    </tr>\n",
       "    <tr>\n",
       "      <th>1</th>\n",
       "      <td>2</td>\n",
       "      <td>11/10/2019</td>\n",
       "      <td>$20.00</td>\n",
       "    </tr>\n",
       "    <tr>\n",
       "      <th>2</th>\n",
       "      <td>3</td>\n",
       "      <td>11/12/2019</td>\n",
       "      <td>$30.00</td>\n",
       "    </tr>\n",
       "    <tr>\n",
       "      <th>3</th>\n",
       "      <td>4</td>\n",
       "      <td>12/07/2019</td>\n",
       "      <td>$40.00</td>\n",
       "    </tr>\n",
       "    <tr>\n",
       "      <th>4</th>\n",
       "      <td>5</td>\n",
       "      <td>12/27/2019</td>\n",
       "      <td>$50.00</td>\n",
       "    </tr>\n",
       "  </tbody>\n",
       "</table>\n",
       "</div>"
      ],
      "text/plain": [
       "   claims       dates  totals\n",
       "0       1  10/17/2019  $10.00\n",
       "1       2  11/10/2019  $20.00\n",
       "2       3  11/12/2019  $30.00\n",
       "3       4  12/07/2019  $40.00\n",
       "4       5  12/27/2019  $50.00"
      ]
     },
     "execution_count": 116,
     "metadata": {},
     "output_type": "execute_result"
    }
   ],
   "source": [
    "## zip and map\n",
    "df2 = pd.DataFrame(list(zip(claims, list(map(strip_html, dates)), \n",
    "                    list(map(strip_html, totals)))), \n",
    "                   columns = ['claims', \"dates\", \"totals\"])\n",
    "\n",
    "df2"
   ]
  }
 ],
 "metadata": {
  "colab": {
   "provenance": []
  },
  "kernelspec": {
   "display_name": "Python 3 (ipykernel)",
   "language": "python",
   "name": "python3"
  },
  "language_info": {
   "codemirror_mode": {
    "name": "ipython",
    "version": 3
   },
   "file_extension": ".py",
   "mimetype": "text/x-python",
   "name": "python",
   "nbconvert_exporter": "python",
   "pygments_lexer": "ipython3",
   "version": "3.9.7"
  }
 },
 "nbformat": 4,
 "nbformat_minor": 1
}
