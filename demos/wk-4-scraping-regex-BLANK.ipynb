{
 "cells": [
  {
   "cell_type": "markdown",
   "metadata": {},
   "source": [
    "# Using Regex in Web Scraping\n",
    "\n",
    "When a website's ```html``` and ```css``` is not well organized, we often have to use ```regex``` to target our content. This is especially relevant today because reporters have to scrape energy sites for their climate change pieces. And these sites are generally all poorly designed (perhaps on purpose!).\n",
    "\n",
    "At <a href=\"https://content.energy.alberta.ca/Tenure/1314.asp\">this energy site</a> , we want to target and download the ```csv``` files on every page.\n",
    "\n",
    "No need to iterate through every year...let's do it one time.\n",
    "\n",
    "How would you approach this?"
   ]
  },
  {
   "cell_type": "code",
   "execution_count": null,
   "metadata": {
    "id": "97-0sQwJVlsH"
   },
   "outputs": [],
   "source": []
  }
 ],
 "metadata": {
  "colab": {
   "provenance": []
  },
  "kernelspec": {
   "display_name": "Python 3 (ipykernel)",
   "language": "python",
   "name": "python3"
  },
  "language_info": {
   "codemirror_mode": {
    "name": "ipython",
    "version": 3
   },
   "file_extension": ".py",
   "mimetype": "text/x-python",
   "name": "python",
   "nbconvert_exporter": "python",
   "pygments_lexer": "ipython3",
   "version": "3.9.7"
  }
 },
 "nbformat": 4,
 "nbformat_minor": 1
}
