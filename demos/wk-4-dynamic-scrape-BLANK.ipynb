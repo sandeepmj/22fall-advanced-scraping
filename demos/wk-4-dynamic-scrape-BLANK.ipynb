{
  "nbformat": 4,
  "nbformat_minor": 0,
  "metadata": {
    "colab": {
      "provenance": []
    },
    "kernelspec": {
      "name": "python3",
      "display_name": "Python 3"
    },
    "language_info": {
      "name": "python"
    }
  },
  "cells": [
    {
      "cell_type": "markdown",
      "metadata": {
        "id": "1JH78Ldxvuz_"
      },
      "source": [
        "# Scraping sites with pulldown menus\n",
        "\n",
        "- <a href=\"https://automobiles.honda.com/\">Honda</a>\n",
        "- <a href=\"https://www.ryanair.com/us/en\">Ryanair</a>\n",
        "- <a href=\"https://www.rebgv.org/content/rebgv-org/market-watch/monthly-market-report/\">Real Estate Board Monthly Market Report</a>\n",
        "- <a href=\"https://egov.uscis.gov/processing-times/\">USCIS Check Case Processing Times</a>\n",
        "\n",
        "We want to <a href=\"https://sandeepmj.github.io/scrape-example-page/pulldown-site/\">scrape this site</a>. \n",
        "\n",
        "Note that the site is non-functional (choosing items from menu won't take you anywhere, but we can use it to train)."
      ]
    },
    {
      "cell_type": "markdown",
      "metadata": {
        "id": "BG4E3uJXv5Tp"
      },
      "source": [
        "## Buried within are pages like:\n",
        "\n",
        "- <a href=\"https://sandeepmj.github.io/scrape-example-page/pulldown-site/reports/january-2020.html\">January 2020</a>\n",
        "- <a href=\"https://sandeepmj.github.io/scrape-example-page/pulldown-site/reports/february-2020.html\">February 2020</a>\n",
        "- <a href=\"https://sandeepmj.github.io/scrape-example-page/pulldown-site/reports/august-2020.html\">August 2020</a>"
      ]
    },
    {
      "cell_type": "code",
      "metadata": {
        "id": "_JLB76N9wDsz"
      },
      "source": [
        "pip install icecream"
      ],
      "execution_count": null,
      "outputs": []
    },
    {
      "cell_type": "code",
      "metadata": {
        "id": "8Ac52cjtvvkP"
      },
      "source": [
        "## Lets import all the libaries we are likely to need\n",
        "import requests ## to capture content from web pages\n",
        "from bs4 import BeautifulSoup ## to parse our scraped data\n",
        "import pandas as pd ## to easily export our data to dataframes/CSVs\n",
        "from icecream import ic ## easily debug\n",
        "import itertools ## to flatten lists\n",
        "from random import randrange ## to create a range of numbers\n",
        "import time # for timer\n",
        "import re"
      ],
      "execution_count": null,
      "outputs": []
    }
  ]
}